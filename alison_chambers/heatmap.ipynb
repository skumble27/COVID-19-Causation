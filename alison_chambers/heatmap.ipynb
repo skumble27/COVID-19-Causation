{
 "metadata": {
  "language_info": {
   "codemirror_mode": {
    "name": "ipython",
    "version": 3
   },
   "file_extension": ".py",
   "mimetype": "text/x-python",
   "name": "python",
   "nbconvert_exporter": "python",
   "pygments_lexer": "ipython3",
   "version": "3.7.6-final"
  },
  "orig_nbformat": 2,
  "kernelspec": {
   "name": "Python 3.7.6 64-bit ('base': conda)",
   "display_name": "Python 3.7.6 64-bit ('base': conda)",
   "metadata": {
    "interpreter": {
     "hash": "7e94943720e493670821744f9bf7aec5c6d0fc5fc3060850753becf607589fe9"
    }
   }
  }
 },
 "nbformat": 4,
 "nbformat_minor": 2,
 "cells": [
  {
   "source": [
    "# World Heatmap - COVID-19 Infection Rates"
   ],
   "cell_type": "markdown",
   "metadata": {}
  },
  {
   "cell_type": "code",
   "execution_count": 46,
   "metadata": {},
   "outputs": [],
   "source": [
    "# Dependencies\n",
    "import gmaps\n",
    "import pandas as pd\n",
    "import matplotlib.pyplot as plt\n",
    "from pylab import savefig\n",
    "\n",
    "# Google developer API key\n",
    "from config import gkey\n",
    "\n",
    "# Configure gmaps\n",
    "gmaps.configure(api_key=gkey)"
   ]
  },
  {
   "cell_type": "code",
   "execution_count": 47,
   "metadata": {},
   "outputs": [
    {
     "output_type": "execute_result",
     "data": {
      "text/plain": "                  Country   latitude  longitude  Infection Rate\n0                 Andorra  42.546245   1.601554        2.544490\n1    United Arab Emirates  23.424076  53.847818        0.941216\n2             Afghanistan  33.939110  67.709953        0.100837\n3     Antigua and Barbuda  17.060816 -61.796428        0.103137\n4                Anguilla  18.220554 -63.068615        0.019997\n..                    ...        ...        ...             ...\n239                Kosovo  42.602636  20.902977        0.805785\n240                 Yemen  15.552727  48.516388        0.006823\n242          South Africa -30.559482  22.937506        1.134019\n243                Zambia -13.133897  27.849332        0.080043\n244              Zimbabwe -19.015438  29.154857        0.052729\n\n[194 rows x 4 columns]",
      "text/html": "<div>\n<style scoped>\n    .dataframe tbody tr th:only-of-type {\n        vertical-align: middle;\n    }\n\n    .dataframe tbody tr th {\n        vertical-align: top;\n    }\n\n    .dataframe thead th {\n        text-align: right;\n    }\n</style>\n<table border=\"1\" class=\"dataframe\">\n  <thead>\n    <tr style=\"text-align: right;\">\n      <th></th>\n      <th>Country</th>\n      <th>latitude</th>\n      <th>longitude</th>\n      <th>Infection Rate</th>\n    </tr>\n  </thead>\n  <tbody>\n    <tr>\n      <th>0</th>\n      <td>Andorra</td>\n      <td>42.546245</td>\n      <td>1.601554</td>\n      <td>2.544490</td>\n    </tr>\n    <tr>\n      <th>1</th>\n      <td>United Arab Emirates</td>\n      <td>23.424076</td>\n      <td>53.847818</td>\n      <td>0.941216</td>\n    </tr>\n    <tr>\n      <th>2</th>\n      <td>Afghanistan</td>\n      <td>33.939110</td>\n      <td>67.709953</td>\n      <td>0.100837</td>\n    </tr>\n    <tr>\n      <th>3</th>\n      <td>Antigua and Barbuda</td>\n      <td>17.060816</td>\n      <td>-61.796428</td>\n      <td>0.103137</td>\n    </tr>\n    <tr>\n      <th>4</th>\n      <td>Anguilla</td>\n      <td>18.220554</td>\n      <td>-63.068615</td>\n      <td>0.019997</td>\n    </tr>\n    <tr>\n      <th>...</th>\n      <td>...</td>\n      <td>...</td>\n      <td>...</td>\n      <td>...</td>\n    </tr>\n    <tr>\n      <th>239</th>\n      <td>Kosovo</td>\n      <td>42.602636</td>\n      <td>20.902977</td>\n      <td>0.805785</td>\n    </tr>\n    <tr>\n      <th>240</th>\n      <td>Yemen</td>\n      <td>15.552727</td>\n      <td>48.516388</td>\n      <td>0.006823</td>\n    </tr>\n    <tr>\n      <th>242</th>\n      <td>South Africa</td>\n      <td>-30.559482</td>\n      <td>22.937506</td>\n      <td>1.134019</td>\n    </tr>\n    <tr>\n      <th>243</th>\n      <td>Zambia</td>\n      <td>-13.133897</td>\n      <td>27.849332</td>\n      <td>0.080043</td>\n    </tr>\n    <tr>\n      <th>244</th>\n      <td>Zimbabwe</td>\n      <td>-19.015438</td>\n      <td>29.154857</td>\n      <td>0.052729</td>\n    </tr>\n  </tbody>\n</table>\n<p>194 rows × 4 columns</p>\n</div>"
     },
     "metadata": {},
     "execution_count": 47
    }
   ],
   "source": [
    "#Read in location Dataframe\n",
    "world_location = pd.read_csv(\"Resources/world_country_and_usa_states_latitude_and_longitude_values.csv\")\n",
    "\n",
    "#Filter info\n",
    "world_location=world_location[[\"country_code\", \"latitude\", \"longitude\", \"country\"]]\n",
    "world_location=world_location.rename(columns={\"country\":\"Country\"})\n",
    "\n",
    "#Read in country infection rate Dataframe\n",
    "world_infection_rate = pd.read_csv(\"Resources/country_infection_rate.csv\")\n",
    "\n",
    "#Merge Dataframes\n",
    "world_df=world_location.merge(world_infection_rate, on=\"Country\", how=\"outer\")\n",
    "\n",
    "#Reorganise\n",
    "world_df=world_df[[\"Country\", \"latitude\", \"longitude\", \"Infection Rate\"]]\n",
    "\n",
    "#Drop NaN values \n",
    "world_df=world_df.dropna()\n",
    "world_df"
   ]
  },
  {
   "cell_type": "code",
   "execution_count": 48,
   "metadata": {},
   "outputs": [],
   "source": [
    "# Store latitude and longitude in locations\n",
    "locations = world_df[[\"latitude\", \"longitude\"]]\n",
    "\n",
    "# Store infection rates and convert to float \n",
    "infection_rates = world_df[\"Infection Rate\"].astype(float)"
   ]
  },
  {
   "cell_type": "code",
   "execution_count": 53,
   "metadata": {},
   "outputs": [
    {
     "output_type": "display_data",
     "data": {
      "text/plain": "Figure(layout=FigureLayout(height=&#39;420px&#39;))",
      "application/vnd.jupyter.widget-view+json": {
       "version_major": 2,
       "version_minor": 0,
       "model_id": "c868c3b49a484050a62a9a994f537c75"
      }
     },
     "metadata": {}
    }
   ],
   "source": [
    "# Plot Heatmap\n",
    "fig = gmaps.figure()\n",
    "\n",
    "# Create heat layer\n",
    "heat_layer = gmaps.heatmap_layer(locations, weights=infection_rates)\n",
    "\n",
    "# Add layer\n",
    "fig.add_layer(heat_layer)\n",
    "\n",
    "# Display figure\n",
    "fig"
   ]
  },
  {
   "cell_type": "code",
   "execution_count": null,
   "metadata": {},
   "outputs": [],
   "source": []
  }
 ]
}
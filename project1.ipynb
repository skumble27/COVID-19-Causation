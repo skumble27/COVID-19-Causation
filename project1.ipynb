{
 "metadata": {
  "language_info": {
   "codemirror_mode": {
    "name": "ipython",
    "version": 3
   },
   "file_extension": ".py",
   "mimetype": "text/x-python",
   "name": "python",
   "nbconvert_exporter": "python",
   "pygments_lexer": "ipython3",
   "version": "3.6.12-final"
  },
  "orig_nbformat": 2,
  "kernelspec": {
   "name": "python_defaultSpec_1601543471552",
   "display_name": "Python 3.6.12 64-bit ('apiproject': conda)"
  }
 },
 "nbformat": 4,
 "nbformat_minor": 2,
 "cells": [
  {
   "cell_type": "code",
   "execution_count": 2,
   "metadata": {},
   "outputs": [],
   "source": [
    "# Importing Modules\n",
    "import pandas as pd\n",
    "import matplotlib.pyplot as plt\n"
   ]
  },
  {
   "cell_type": "code",
   "execution_count": 4,
   "metadata": {},
   "outputs": [],
   "source": [
    "# Reading the CSV File\n",
    "raw_data_cv19 = pd.read_csv('Resources\\owid-covid-data.csv')"
   ]
  },
  {
   "cell_type": "code",
   "execution_count": 5,
   "metadata": {},
   "outputs": [
    {
     "output_type": "execute_result",
     "data": {
      "text/plain": "  iso_code      continent location        date  total_cases  new_cases  \\\n0      ABW  North America    Aruba  2020-03-13          2.0        2.0   \n1      ABW  North America    Aruba  2020-03-19          NaN        NaN   \n2      ABW  North America    Aruba  2020-03-20          4.0        2.0   \n3      ABW  North America    Aruba  2020-03-21          NaN        NaN   \n4      ABW  North America    Aruba  2020-03-22          NaN        NaN   \n\n   new_cases_smoothed  total_deaths  new_deaths  new_deaths_smoothed  ...  \\\n0                 NaN           0.0         0.0                  NaN  ...   \n1               0.286           NaN         NaN                  0.0  ...   \n2               0.286           0.0         0.0                  0.0  ...   \n3               0.286           NaN         NaN                  0.0  ...   \n4               0.286           NaN         NaN                  0.0  ...   \n\n   gdp_per_capita  extreme_poverty  cardiovasc_death_rate  \\\n0       35973.781              NaN                    NaN   \n1       35973.781              NaN                    NaN   \n2       35973.781              NaN                    NaN   \n3       35973.781              NaN                    NaN   \n4       35973.781              NaN                    NaN   \n\n   diabetes_prevalence  female_smokers  male_smokers  handwashing_facilities  \\\n0                11.62             NaN           NaN                     NaN   \n1                11.62             NaN           NaN                     NaN   \n2                11.62             NaN           NaN                     NaN   \n3                11.62             NaN           NaN                     NaN   \n4                11.62             NaN           NaN                     NaN   \n\n   hospital_beds_per_thousand  life_expectancy  human_development_index  \n0                         NaN            76.29                      NaN  \n1                         NaN            76.29                      NaN  \n2                         NaN            76.29                      NaN  \n3                         NaN            76.29                      NaN  \n4                         NaN            76.29                      NaN  \n\n[5 rows x 41 columns]",
      "text/html": "<div>\n<style scoped>\n    .dataframe tbody tr th:only-of-type {\n        vertical-align: middle;\n    }\n\n    .dataframe tbody tr th {\n        vertical-align: top;\n    }\n\n    .dataframe thead th {\n        text-align: right;\n    }\n</style>\n<table border=\"1\" class=\"dataframe\">\n  <thead>\n    <tr style=\"text-align: right;\">\n      <th></th>\n      <th>iso_code</th>\n      <th>continent</th>\n      <th>location</th>\n      <th>date</th>\n      <th>total_cases</th>\n      <th>new_cases</th>\n      <th>new_cases_smoothed</th>\n      <th>total_deaths</th>\n      <th>new_deaths</th>\n      <th>new_deaths_smoothed</th>\n      <th>...</th>\n      <th>gdp_per_capita</th>\n      <th>extreme_poverty</th>\n      <th>cardiovasc_death_rate</th>\n      <th>diabetes_prevalence</th>\n      <th>female_smokers</th>\n      <th>male_smokers</th>\n      <th>handwashing_facilities</th>\n      <th>hospital_beds_per_thousand</th>\n      <th>life_expectancy</th>\n      <th>human_development_index</th>\n    </tr>\n  </thead>\n  <tbody>\n    <tr>\n      <th>0</th>\n      <td>ABW</td>\n      <td>North America</td>\n      <td>Aruba</td>\n      <td>2020-03-13</td>\n      <td>2.0</td>\n      <td>2.0</td>\n      <td>NaN</td>\n      <td>0.0</td>\n      <td>0.0</td>\n      <td>NaN</td>\n      <td>...</td>\n      <td>35973.781</td>\n      <td>NaN</td>\n      <td>NaN</td>\n      <td>11.62</td>\n      <td>NaN</td>\n      <td>NaN</td>\n      <td>NaN</td>\n      <td>NaN</td>\n      <td>76.29</td>\n      <td>NaN</td>\n    </tr>\n    <tr>\n      <th>1</th>\n      <td>ABW</td>\n      <td>North America</td>\n      <td>Aruba</td>\n      <td>2020-03-19</td>\n      <td>NaN</td>\n      <td>NaN</td>\n      <td>0.286</td>\n      <td>NaN</td>\n      <td>NaN</td>\n      <td>0.0</td>\n      <td>...</td>\n      <td>35973.781</td>\n      <td>NaN</td>\n      <td>NaN</td>\n      <td>11.62</td>\n      <td>NaN</td>\n      <td>NaN</td>\n      <td>NaN</td>\n      <td>NaN</td>\n      <td>76.29</td>\n      <td>NaN</td>\n    </tr>\n    <tr>\n      <th>2</th>\n      <td>ABW</td>\n      <td>North America</td>\n      <td>Aruba</td>\n      <td>2020-03-20</td>\n      <td>4.0</td>\n      <td>2.0</td>\n      <td>0.286</td>\n      <td>0.0</td>\n      <td>0.0</td>\n      <td>0.0</td>\n      <td>...</td>\n      <td>35973.781</td>\n      <td>NaN</td>\n      <td>NaN</td>\n      <td>11.62</td>\n      <td>NaN</td>\n      <td>NaN</td>\n      <td>NaN</td>\n      <td>NaN</td>\n      <td>76.29</td>\n      <td>NaN</td>\n    </tr>\n    <tr>\n      <th>3</th>\n      <td>ABW</td>\n      <td>North America</td>\n      <td>Aruba</td>\n      <td>2020-03-21</td>\n      <td>NaN</td>\n      <td>NaN</td>\n      <td>0.286</td>\n      <td>NaN</td>\n      <td>NaN</td>\n      <td>0.0</td>\n      <td>...</td>\n      <td>35973.781</td>\n      <td>NaN</td>\n      <td>NaN</td>\n      <td>11.62</td>\n      <td>NaN</td>\n      <td>NaN</td>\n      <td>NaN</td>\n      <td>NaN</td>\n      <td>76.29</td>\n      <td>NaN</td>\n    </tr>\n    <tr>\n      <th>4</th>\n      <td>ABW</td>\n      <td>North America</td>\n      <td>Aruba</td>\n      <td>2020-03-22</td>\n      <td>NaN</td>\n      <td>NaN</td>\n      <td>0.286</td>\n      <td>NaN</td>\n      <td>NaN</td>\n      <td>0.0</td>\n      <td>...</td>\n      <td>35973.781</td>\n      <td>NaN</td>\n      <td>NaN</td>\n      <td>11.62</td>\n      <td>NaN</td>\n      <td>NaN</td>\n      <td>NaN</td>\n      <td>NaN</td>\n      <td>76.29</td>\n      <td>NaN</td>\n    </tr>\n  </tbody>\n</table>\n<p>5 rows × 41 columns</p>\n</div>"
     },
     "metadata": {},
     "execution_count": 5
    }
   ],
   "source": [
    "# Reading the Raw Data Frame\n",
    "raw_data_cv19.head()"
   ]
  },
  {
   "cell_type": "code",
   "execution_count": null,
   "metadata": {},
   "outputs": [],
   "source": [
    "# Replacing all the NaN to zero\n"
   ]
  }
 ]
}
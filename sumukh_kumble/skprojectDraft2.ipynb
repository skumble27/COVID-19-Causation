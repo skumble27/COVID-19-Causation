{
 "metadata": {
  "language_info": {
   "codemirror_mode": {
    "name": "ipython",
    "version": 3
   },
   "file_extension": ".py",
   "mimetype": "text/x-python",
   "name": "python",
   "nbconvert_exporter": "python",
   "pygments_lexer": "ipython3",
   "version": "3.6.12-final"
  },
  "orig_nbformat": 2,
  "kernelspec": {
   "name": "python_defaultSpec_1601693263787",
   "display_name": "Python 3.6.12 64-bit ('apiproject': conda)",
   "metadata": {
    "interpreter": {
     "hash": "6858991ae45970477c979e20bd003b285324046a59fb015a65b3ffb3c3b75fd3"
    }
   }
  }
 },
 "nbformat": 4,
 "nbformat_minor": 2,
 "cells": [
  {
   "source": [
    "# Global Covid-19 Data Analysis"
   ],
   "cell_type": "markdown",
   "metadata": {}
  },
  {
   "cell_type": "code",
   "execution_count": 1,
   "metadata": {},
   "outputs": [],
   "source": [
    "# Key Questions to ask when analysing this data set\n",
    "# Questions to ask for Q1\n",
    "# Population density vs Total infections? (linear regression) \n",
    "# GDP/Poverty vs death rate, # Poverty vs infection rate \n",
    "# Random sample of HDI vs total cases and death rate\n",
    "\n"
   ]
  },
  {
   "cell_type": "code",
   "execution_count": 2,
   "metadata": {},
   "outputs": [],
   "source": [
    "# Importing the relevant dependencies\n",
    "import matplotlib.pyplot as plt\n",
    "import pandas as pd\n",
    "import numpy as np\n",
    "import requests\n",
    "import time\n",
    "from citipy import citipy\n",
    "import scipy.stats as st\n",
    "import matplotlib\n",
    "from datetime import datetime\n"
   ]
  },
  {
   "cell_type": "code",
   "execution_count": 3,
   "metadata": {},
   "outputs": [
    {
     "output_type": "execute_result",
     "data": {
      "text/plain": "      iso_code      continent       location        date  total_cases  \\\n0          ABW  North America          Aruba  2020-03-13          2.0   \n1          ABW  North America          Aruba  2020-03-19          NaN   \n2          ABW  North America          Aruba  2020-03-20          4.0   \n3          ABW  North America          Aruba  2020-03-21          NaN   \n4          ABW  North America          Aruba  2020-03-22          NaN   \n...        ...            ...            ...         ...          ...   \n47111      NaN            NaN  International  2020-09-26        696.0   \n47112      NaN            NaN  International  2020-09-27        696.0   \n47113      NaN            NaN  International  2020-09-28        696.0   \n47114      NaN            NaN  International  2020-09-29        696.0   \n47115      NaN            NaN  International  2020-09-30        696.0   \n\n       new_cases  new_cases_smoothed  total_deaths  new_deaths  \\\n0            2.0                 NaN           0.0         0.0   \n1            NaN               0.286           NaN         NaN   \n2            2.0               0.286           0.0         0.0   \n3            NaN               0.286           NaN         NaN   \n4            NaN               0.286           NaN         NaN   \n...          ...                 ...           ...         ...   \n47111        NaN                 NaN           7.0         NaN   \n47112        NaN                 NaN           7.0         NaN   \n47113        NaN                 NaN           7.0         NaN   \n47114        NaN                 NaN           7.0         NaN   \n47115        NaN                 NaN           7.0         NaN   \n\n       new_deaths_smoothed  ...  gdp_per_capita  extreme_poverty  \\\n0                      NaN  ...       35973.781              NaN   \n1                      0.0  ...       35973.781              NaN   \n2                      0.0  ...       35973.781              NaN   \n3                      0.0  ...       35973.781              NaN   \n4                      0.0  ...       35973.781              NaN   \n...                    ...  ...             ...              ...   \n47111                  NaN  ...             NaN              NaN   \n47112                  NaN  ...             NaN              NaN   \n47113                  NaN  ...             NaN              NaN   \n47114                  NaN  ...             NaN              NaN   \n47115                  NaN  ...             NaN              NaN   \n\n       cardiovasc_death_rate  diabetes_prevalence  female_smokers  \\\n0                        NaN                11.62             NaN   \n1                        NaN                11.62             NaN   \n2                        NaN                11.62             NaN   \n3                        NaN                11.62             NaN   \n4                        NaN                11.62             NaN   \n...                      ...                  ...             ...   \n47111                    NaN                  NaN             NaN   \n47112                    NaN                  NaN             NaN   \n47113                    NaN                  NaN             NaN   \n47114                    NaN                  NaN             NaN   \n47115                    NaN                  NaN             NaN   \n\n       male_smokers  handwashing_facilities  hospital_beds_per_thousand  \\\n0               NaN                     NaN                         NaN   \n1               NaN                     NaN                         NaN   \n2               NaN                     NaN                         NaN   \n3               NaN                     NaN                         NaN   \n4               NaN                     NaN                         NaN   \n...             ...                     ...                         ...   \n47111           NaN                     NaN                         NaN   \n47112           NaN                     NaN                         NaN   \n47113           NaN                     NaN                         NaN   \n47114           NaN                     NaN                         NaN   \n47115           NaN                     NaN                         NaN   \n\n       life_expectancy  human_development_index  \n0                76.29                      NaN  \n1                76.29                      NaN  \n2                76.29                      NaN  \n3                76.29                      NaN  \n4                76.29                      NaN  \n...                ...                      ...  \n47111              NaN                      NaN  \n47112              NaN                      NaN  \n47113              NaN                      NaN  \n47114              NaN                      NaN  \n47115              NaN                      NaN  \n\n[47116 rows x 41 columns]",
      "text/html": "<div>\n<style scoped>\n    .dataframe tbody tr th:only-of-type {\n        vertical-align: middle;\n    }\n\n    .dataframe tbody tr th {\n        vertical-align: top;\n    }\n\n    .dataframe thead th {\n        text-align: right;\n    }\n</style>\n<table border=\"1\" class=\"dataframe\">\n  <thead>\n    <tr style=\"text-align: right;\">\n      <th></th>\n      <th>iso_code</th>\n      <th>continent</th>\n      <th>location</th>\n      <th>date</th>\n      <th>total_cases</th>\n      <th>new_cases</th>\n      <th>new_cases_smoothed</th>\n      <th>total_deaths</th>\n      <th>new_deaths</th>\n      <th>new_deaths_smoothed</th>\n      <th>...</th>\n      <th>gdp_per_capita</th>\n      <th>extreme_poverty</th>\n      <th>cardiovasc_death_rate</th>\n      <th>diabetes_prevalence</th>\n      <th>female_smokers</th>\n      <th>male_smokers</th>\n      <th>handwashing_facilities</th>\n      <th>hospital_beds_per_thousand</th>\n      <th>life_expectancy</th>\n      <th>human_development_index</th>\n    </tr>\n  </thead>\n  <tbody>\n    <tr>\n      <th>0</th>\n      <td>ABW</td>\n      <td>North America</td>\n      <td>Aruba</td>\n      <td>2020-03-13</td>\n      <td>2.0</td>\n      <td>2.0</td>\n      <td>NaN</td>\n      <td>0.0</td>\n      <td>0.0</td>\n      <td>NaN</td>\n      <td>...</td>\n      <td>35973.781</td>\n      <td>NaN</td>\n      <td>NaN</td>\n      <td>11.62</td>\n      <td>NaN</td>\n      <td>NaN</td>\n      <td>NaN</td>\n      <td>NaN</td>\n      <td>76.29</td>\n      <td>NaN</td>\n    </tr>\n    <tr>\n      <th>1</th>\n      <td>ABW</td>\n      <td>North America</td>\n      <td>Aruba</td>\n      <td>2020-03-19</td>\n      <td>NaN</td>\n      <td>NaN</td>\n      <td>0.286</td>\n      <td>NaN</td>\n      <td>NaN</td>\n      <td>0.0</td>\n      <td>...</td>\n      <td>35973.781</td>\n      <td>NaN</td>\n      <td>NaN</td>\n      <td>11.62</td>\n      <td>NaN</td>\n      <td>NaN</td>\n      <td>NaN</td>\n      <td>NaN</td>\n      <td>76.29</td>\n      <td>NaN</td>\n    </tr>\n    <tr>\n      <th>2</th>\n      <td>ABW</td>\n      <td>North America</td>\n      <td>Aruba</td>\n      <td>2020-03-20</td>\n      <td>4.0</td>\n      <td>2.0</td>\n      <td>0.286</td>\n      <td>0.0</td>\n      <td>0.0</td>\n      <td>0.0</td>\n      <td>...</td>\n      <td>35973.781</td>\n      <td>NaN</td>\n      <td>NaN</td>\n      <td>11.62</td>\n      <td>NaN</td>\n      <td>NaN</td>\n      <td>NaN</td>\n      <td>NaN</td>\n      <td>76.29</td>\n      <td>NaN</td>\n    </tr>\n    <tr>\n      <th>3</th>\n      <td>ABW</td>\n      <td>North America</td>\n      <td>Aruba</td>\n      <td>2020-03-21</td>\n      <td>NaN</td>\n      <td>NaN</td>\n      <td>0.286</td>\n      <td>NaN</td>\n      <td>NaN</td>\n      <td>0.0</td>\n      <td>...</td>\n      <td>35973.781</td>\n      <td>NaN</td>\n      <td>NaN</td>\n      <td>11.62</td>\n      <td>NaN</td>\n      <td>NaN</td>\n      <td>NaN</td>\n      <td>NaN</td>\n      <td>76.29</td>\n      <td>NaN</td>\n    </tr>\n    <tr>\n      <th>4</th>\n      <td>ABW</td>\n      <td>North America</td>\n      <td>Aruba</td>\n      <td>2020-03-22</td>\n      <td>NaN</td>\n      <td>NaN</td>\n      <td>0.286</td>\n      <td>NaN</td>\n      <td>NaN</td>\n      <td>0.0</td>\n      <td>...</td>\n      <td>35973.781</td>\n      <td>NaN</td>\n      <td>NaN</td>\n      <td>11.62</td>\n      <td>NaN</td>\n      <td>NaN</td>\n      <td>NaN</td>\n      <td>NaN</td>\n      <td>76.29</td>\n      <td>NaN</td>\n    </tr>\n    <tr>\n      <th>...</th>\n      <td>...</td>\n      <td>...</td>\n      <td>...</td>\n      <td>...</td>\n      <td>...</td>\n      <td>...</td>\n      <td>...</td>\n      <td>...</td>\n      <td>...</td>\n      <td>...</td>\n      <td>...</td>\n      <td>...</td>\n      <td>...</td>\n      <td>...</td>\n      <td>...</td>\n      <td>...</td>\n      <td>...</td>\n      <td>...</td>\n      <td>...</td>\n      <td>...</td>\n      <td>...</td>\n    </tr>\n    <tr>\n      <th>47111</th>\n      <td>NaN</td>\n      <td>NaN</td>\n      <td>International</td>\n      <td>2020-09-26</td>\n      <td>696.0</td>\n      <td>NaN</td>\n      <td>NaN</td>\n      <td>7.0</td>\n      <td>NaN</td>\n      <td>NaN</td>\n      <td>...</td>\n      <td>NaN</td>\n      <td>NaN</td>\n      <td>NaN</td>\n      <td>NaN</td>\n      <td>NaN</td>\n      <td>NaN</td>\n      <td>NaN</td>\n      <td>NaN</td>\n      <td>NaN</td>\n      <td>NaN</td>\n    </tr>\n    <tr>\n      <th>47112</th>\n      <td>NaN</td>\n      <td>NaN</td>\n      <td>International</td>\n      <td>2020-09-27</td>\n      <td>696.0</td>\n      <td>NaN</td>\n      <td>NaN</td>\n      <td>7.0</td>\n      <td>NaN</td>\n      <td>NaN</td>\n      <td>...</td>\n      <td>NaN</td>\n      <td>NaN</td>\n      <td>NaN</td>\n      <td>NaN</td>\n      <td>NaN</td>\n      <td>NaN</td>\n      <td>NaN</td>\n      <td>NaN</td>\n      <td>NaN</td>\n      <td>NaN</td>\n    </tr>\n    <tr>\n      <th>47113</th>\n      <td>NaN</td>\n      <td>NaN</td>\n      <td>International</td>\n      <td>2020-09-28</td>\n      <td>696.0</td>\n      <td>NaN</td>\n      <td>NaN</td>\n      <td>7.0</td>\n      <td>NaN</td>\n      <td>NaN</td>\n      <td>...</td>\n      <td>NaN</td>\n      <td>NaN</td>\n      <td>NaN</td>\n      <td>NaN</td>\n      <td>NaN</td>\n      <td>NaN</td>\n      <td>NaN</td>\n      <td>NaN</td>\n      <td>NaN</td>\n      <td>NaN</td>\n    </tr>\n    <tr>\n      <th>47114</th>\n      <td>NaN</td>\n      <td>NaN</td>\n      <td>International</td>\n      <td>2020-09-29</td>\n      <td>696.0</td>\n      <td>NaN</td>\n      <td>NaN</td>\n      <td>7.0</td>\n      <td>NaN</td>\n      <td>NaN</td>\n      <td>...</td>\n      <td>NaN</td>\n      <td>NaN</td>\n      <td>NaN</td>\n      <td>NaN</td>\n      <td>NaN</td>\n      <td>NaN</td>\n      <td>NaN</td>\n      <td>NaN</td>\n      <td>NaN</td>\n      <td>NaN</td>\n    </tr>\n    <tr>\n      <th>47115</th>\n      <td>NaN</td>\n      <td>NaN</td>\n      <td>International</td>\n      <td>2020-09-30</td>\n      <td>696.0</td>\n      <td>NaN</td>\n      <td>NaN</td>\n      <td>7.0</td>\n      <td>NaN</td>\n      <td>NaN</td>\n      <td>...</td>\n      <td>NaN</td>\n      <td>NaN</td>\n      <td>NaN</td>\n      <td>NaN</td>\n      <td>NaN</td>\n      <td>NaN</td>\n      <td>NaN</td>\n      <td>NaN</td>\n      <td>NaN</td>\n      <td>NaN</td>\n    </tr>\n  </tbody>\n</table>\n<p>47116 rows × 41 columns</p>\n</div>"
     },
     "metadata": {},
     "execution_count": 3
    }
   ],
   "source": [
    "# Opening the file and creating a DataFrame\n",
    "raw_covid_19_data = pd.read_csv('..\\Resources\\owid-covid-data.csv')\n",
    "raw_covid_19_data"
   ]
  },
  {
   "cell_type": "code",
   "execution_count": 4,
   "metadata": {},
   "outputs": [
    {
     "output_type": "execute_result",
     "data": {
      "text/plain": "      iso_code      continent       location        date  total_cases  \\\n0          ABW  North America          Aruba  2020-03-13          2.0   \n1          ABW  North America          Aruba  2020-03-19          0.0   \n2          ABW  North America          Aruba  2020-03-20          4.0   \n3          ABW  North America          Aruba  2020-03-21          0.0   \n4          ABW  North America          Aruba  2020-03-22          0.0   \n...        ...            ...            ...         ...          ...   \n47111        0              0  International  2020-09-26        696.0   \n47112        0              0  International  2020-09-27        696.0   \n47113        0              0  International  2020-09-28        696.0   \n47114        0              0  International  2020-09-29        696.0   \n47115        0              0  International  2020-09-30        696.0   \n\n       new_cases  new_cases_smoothed  total_deaths  new_deaths  \\\n0            2.0               0.000           0.0         0.0   \n1            0.0               0.286           0.0         0.0   \n2            2.0               0.286           0.0         0.0   \n3            0.0               0.286           0.0         0.0   \n4            0.0               0.286           0.0         0.0   \n...          ...                 ...           ...         ...   \n47111        0.0               0.000           7.0         0.0   \n47112        0.0               0.000           7.0         0.0   \n47113        0.0               0.000           7.0         0.0   \n47114        0.0               0.000           7.0         0.0   \n47115        0.0               0.000           7.0         0.0   \n\n       new_deaths_smoothed  ...  gdp_per_capita  extreme_poverty  \\\n0                      0.0  ...       35973.781              0.0   \n1                      0.0  ...       35973.781              0.0   \n2                      0.0  ...       35973.781              0.0   \n3                      0.0  ...       35973.781              0.0   \n4                      0.0  ...       35973.781              0.0   \n...                    ...  ...             ...              ...   \n47111                  0.0  ...           0.000              0.0   \n47112                  0.0  ...           0.000              0.0   \n47113                  0.0  ...           0.000              0.0   \n47114                  0.0  ...           0.000              0.0   \n47115                  0.0  ...           0.000              0.0   \n\n       cardiovasc_death_rate  diabetes_prevalence  female_smokers  \\\n0                        0.0                11.62             0.0   \n1                        0.0                11.62             0.0   \n2                        0.0                11.62             0.0   \n3                        0.0                11.62             0.0   \n4                        0.0                11.62             0.0   \n...                      ...                  ...             ...   \n47111                    0.0                 0.00             0.0   \n47112                    0.0                 0.00             0.0   \n47113                    0.0                 0.00             0.0   \n47114                    0.0                 0.00             0.0   \n47115                    0.0                 0.00             0.0   \n\n       male_smokers  handwashing_facilities  hospital_beds_per_thousand  \\\n0               0.0                     0.0                         0.0   \n1               0.0                     0.0                         0.0   \n2               0.0                     0.0                         0.0   \n3               0.0                     0.0                         0.0   \n4               0.0                     0.0                         0.0   \n...             ...                     ...                         ...   \n47111           0.0                     0.0                         0.0   \n47112           0.0                     0.0                         0.0   \n47113           0.0                     0.0                         0.0   \n47114           0.0                     0.0                         0.0   \n47115           0.0                     0.0                         0.0   \n\n       life_expectancy  human_development_index  \n0                76.29                      0.0  \n1                76.29                      0.0  \n2                76.29                      0.0  \n3                76.29                      0.0  \n4                76.29                      0.0  \n...                ...                      ...  \n47111             0.00                      0.0  \n47112             0.00                      0.0  \n47113             0.00                      0.0  \n47114             0.00                      0.0  \n47115             0.00                      0.0  \n\n[47116 rows x 41 columns]",
      "text/html": "<div>\n<style scoped>\n    .dataframe tbody tr th:only-of-type {\n        vertical-align: middle;\n    }\n\n    .dataframe tbody tr th {\n        vertical-align: top;\n    }\n\n    .dataframe thead th {\n        text-align: right;\n    }\n</style>\n<table border=\"1\" class=\"dataframe\">\n  <thead>\n    <tr style=\"text-align: right;\">\n      <th></th>\n      <th>iso_code</th>\n      <th>continent</th>\n      <th>location</th>\n      <th>date</th>\n      <th>total_cases</th>\n      <th>new_cases</th>\n      <th>new_cases_smoothed</th>\n      <th>total_deaths</th>\n      <th>new_deaths</th>\n      <th>new_deaths_smoothed</th>\n      <th>...</th>\n      <th>gdp_per_capita</th>\n      <th>extreme_poverty</th>\n      <th>cardiovasc_death_rate</th>\n      <th>diabetes_prevalence</th>\n      <th>female_smokers</th>\n      <th>male_smokers</th>\n      <th>handwashing_facilities</th>\n      <th>hospital_beds_per_thousand</th>\n      <th>life_expectancy</th>\n      <th>human_development_index</th>\n    </tr>\n  </thead>\n  <tbody>\n    <tr>\n      <th>0</th>\n      <td>ABW</td>\n      <td>North America</td>\n      <td>Aruba</td>\n      <td>2020-03-13</td>\n      <td>2.0</td>\n      <td>2.0</td>\n      <td>0.000</td>\n      <td>0.0</td>\n      <td>0.0</td>\n      <td>0.0</td>\n      <td>...</td>\n      <td>35973.781</td>\n      <td>0.0</td>\n      <td>0.0</td>\n      <td>11.62</td>\n      <td>0.0</td>\n      <td>0.0</td>\n      <td>0.0</td>\n      <td>0.0</td>\n      <td>76.29</td>\n      <td>0.0</td>\n    </tr>\n    <tr>\n      <th>1</th>\n      <td>ABW</td>\n      <td>North America</td>\n      <td>Aruba</td>\n      <td>2020-03-19</td>\n      <td>0.0</td>\n      <td>0.0</td>\n      <td>0.286</td>\n      <td>0.0</td>\n      <td>0.0</td>\n      <td>0.0</td>\n      <td>...</td>\n      <td>35973.781</td>\n      <td>0.0</td>\n      <td>0.0</td>\n      <td>11.62</td>\n      <td>0.0</td>\n      <td>0.0</td>\n      <td>0.0</td>\n      <td>0.0</td>\n      <td>76.29</td>\n      <td>0.0</td>\n    </tr>\n    <tr>\n      <th>2</th>\n      <td>ABW</td>\n      <td>North America</td>\n      <td>Aruba</td>\n      <td>2020-03-20</td>\n      <td>4.0</td>\n      <td>2.0</td>\n      <td>0.286</td>\n      <td>0.0</td>\n      <td>0.0</td>\n      <td>0.0</td>\n      <td>...</td>\n      <td>35973.781</td>\n      <td>0.0</td>\n      <td>0.0</td>\n      <td>11.62</td>\n      <td>0.0</td>\n      <td>0.0</td>\n      <td>0.0</td>\n      <td>0.0</td>\n      <td>76.29</td>\n      <td>0.0</td>\n    </tr>\n    <tr>\n      <th>3</th>\n      <td>ABW</td>\n      <td>North America</td>\n      <td>Aruba</td>\n      <td>2020-03-21</td>\n      <td>0.0</td>\n      <td>0.0</td>\n      <td>0.286</td>\n      <td>0.0</td>\n      <td>0.0</td>\n      <td>0.0</td>\n      <td>...</td>\n      <td>35973.781</td>\n      <td>0.0</td>\n      <td>0.0</td>\n      <td>11.62</td>\n      <td>0.0</td>\n      <td>0.0</td>\n      <td>0.0</td>\n      <td>0.0</td>\n      <td>76.29</td>\n      <td>0.0</td>\n    </tr>\n    <tr>\n      <th>4</th>\n      <td>ABW</td>\n      <td>North America</td>\n      <td>Aruba</td>\n      <td>2020-03-22</td>\n      <td>0.0</td>\n      <td>0.0</td>\n      <td>0.286</td>\n      <td>0.0</td>\n      <td>0.0</td>\n      <td>0.0</td>\n      <td>...</td>\n      <td>35973.781</td>\n      <td>0.0</td>\n      <td>0.0</td>\n      <td>11.62</td>\n      <td>0.0</td>\n      <td>0.0</td>\n      <td>0.0</td>\n      <td>0.0</td>\n      <td>76.29</td>\n      <td>0.0</td>\n    </tr>\n    <tr>\n      <th>...</th>\n      <td>...</td>\n      <td>...</td>\n      <td>...</td>\n      <td>...</td>\n      <td>...</td>\n      <td>...</td>\n      <td>...</td>\n      <td>...</td>\n      <td>...</td>\n      <td>...</td>\n      <td>...</td>\n      <td>...</td>\n      <td>...</td>\n      <td>...</td>\n      <td>...</td>\n      <td>...</td>\n      <td>...</td>\n      <td>...</td>\n      <td>...</td>\n      <td>...</td>\n      <td>...</td>\n    </tr>\n    <tr>\n      <th>47111</th>\n      <td>0</td>\n      <td>0</td>\n      <td>International</td>\n      <td>2020-09-26</td>\n      <td>696.0</td>\n      <td>0.0</td>\n      <td>0.000</td>\n      <td>7.0</td>\n      <td>0.0</td>\n      <td>0.0</td>\n      <td>...</td>\n      <td>0.000</td>\n      <td>0.0</td>\n      <td>0.0</td>\n      <td>0.00</td>\n      <td>0.0</td>\n      <td>0.0</td>\n      <td>0.0</td>\n      <td>0.0</td>\n      <td>0.00</td>\n      <td>0.0</td>\n    </tr>\n    <tr>\n      <th>47112</th>\n      <td>0</td>\n      <td>0</td>\n      <td>International</td>\n      <td>2020-09-27</td>\n      <td>696.0</td>\n      <td>0.0</td>\n      <td>0.000</td>\n      <td>7.0</td>\n      <td>0.0</td>\n      <td>0.0</td>\n      <td>...</td>\n      <td>0.000</td>\n      <td>0.0</td>\n      <td>0.0</td>\n      <td>0.00</td>\n      <td>0.0</td>\n      <td>0.0</td>\n      <td>0.0</td>\n      <td>0.0</td>\n      <td>0.00</td>\n      <td>0.0</td>\n    </tr>\n    <tr>\n      <th>47113</th>\n      <td>0</td>\n      <td>0</td>\n      <td>International</td>\n      <td>2020-09-28</td>\n      <td>696.0</td>\n      <td>0.0</td>\n      <td>0.000</td>\n      <td>7.0</td>\n      <td>0.0</td>\n      <td>0.0</td>\n      <td>...</td>\n      <td>0.000</td>\n      <td>0.0</td>\n      <td>0.0</td>\n      <td>0.00</td>\n      <td>0.0</td>\n      <td>0.0</td>\n      <td>0.0</td>\n      <td>0.0</td>\n      <td>0.00</td>\n      <td>0.0</td>\n    </tr>\n    <tr>\n      <th>47114</th>\n      <td>0</td>\n      <td>0</td>\n      <td>International</td>\n      <td>2020-09-29</td>\n      <td>696.0</td>\n      <td>0.0</td>\n      <td>0.000</td>\n      <td>7.0</td>\n      <td>0.0</td>\n      <td>0.0</td>\n      <td>...</td>\n      <td>0.000</td>\n      <td>0.0</td>\n      <td>0.0</td>\n      <td>0.00</td>\n      <td>0.0</td>\n      <td>0.0</td>\n      <td>0.0</td>\n      <td>0.0</td>\n      <td>0.00</td>\n      <td>0.0</td>\n    </tr>\n    <tr>\n      <th>47115</th>\n      <td>0</td>\n      <td>0</td>\n      <td>International</td>\n      <td>2020-09-30</td>\n      <td>696.0</td>\n      <td>0.0</td>\n      <td>0.000</td>\n      <td>7.0</td>\n      <td>0.0</td>\n      <td>0.0</td>\n      <td>...</td>\n      <td>0.000</td>\n      <td>0.0</td>\n      <td>0.0</td>\n      <td>0.00</td>\n      <td>0.0</td>\n      <td>0.0</td>\n      <td>0.0</td>\n      <td>0.0</td>\n      <td>0.00</td>\n      <td>0.0</td>\n    </tr>\n  </tbody>\n</table>\n<p>47116 rows × 41 columns</p>\n</div>"
     },
     "metadata": {},
     "execution_count": 4
    }
   ],
   "source": [
    "# Substituting NaN data with a zero integer\n",
    "raw_covid_19_data = raw_covid_19_data.fillna(0)\n",
    "raw_covid_19_data"
   ]
  },
  {
   "source": [
    "# Corrolation between population density and total cases"
   ],
   "cell_type": "markdown",
   "metadata": {}
  },
  {
   "cell_type": "code",
   "execution_count": 5,
   "metadata": {},
   "outputs": [],
   "source": [
    "# Determining the global correlation between population density and total cases\n"
   ]
  },
  {
   "cell_type": "code",
   "execution_count": 6,
   "metadata": {},
   "outputs": [
    {
     "output_type": "execute_result",
     "data": {
      "text/plain": "Index([&#39;iso_code&#39;, &#39;continent&#39;, &#39;location&#39;, &#39;date&#39;, &#39;total_cases&#39;, &#39;new_cases&#39;,\n       &#39;new_cases_smoothed&#39;, &#39;total_deaths&#39;, &#39;new_deaths&#39;,\n       &#39;new_deaths_smoothed&#39;, &#39;total_cases_per_million&#39;,\n       &#39;new_cases_per_million&#39;, &#39;new_cases_smoothed_per_million&#39;,\n       &#39;total_deaths_per_million&#39;, &#39;new_deaths_per_million&#39;,\n       &#39;new_deaths_smoothed_per_million&#39;, &#39;new_tests&#39;, &#39;total_tests&#39;,\n       &#39;total_tests_per_thousand&#39;, &#39;new_tests_per_thousand&#39;,\n       &#39;new_tests_smoothed&#39;, &#39;new_tests_smoothed_per_thousand&#39;,\n       &#39;tests_per_case&#39;, &#39;positive_rate&#39;, &#39;tests_units&#39;, &#39;stringency_index&#39;,\n       &#39;population&#39;, &#39;population_density&#39;, &#39;median_age&#39;, &#39;aged_65_older&#39;,\n       &#39;aged_70_older&#39;, &#39;gdp_per_capita&#39;, &#39;extreme_poverty&#39;,\n       &#39;cardiovasc_death_rate&#39;, &#39;diabetes_prevalence&#39;, &#39;female_smokers&#39;,\n       &#39;male_smokers&#39;, &#39;handwashing_facilities&#39;, &#39;hospital_beds_per_thousand&#39;,\n       &#39;life_expectancy&#39;, &#39;human_development_index&#39;],\n      dtype=&#39;object&#39;)"
     },
     "metadata": {},
     "execution_count": 6
    }
   ],
   "source": [
    "# Data Cleanup to Answer first question\n",
    "# Determining columns\n",
    "raw_covid_19_data.columns"
   ]
  },
  {
   "cell_type": "code",
   "execution_count": 7,
   "metadata": {},
   "outputs": [],
   "source": [
    "# ## Removing unnecessary columns\n",
    "pop_density_cases = raw_covid_19_data.drop(columns=['iso_code','new_cases','new_cases_smoothed', 'total_deaths', 'new_deaths',\n",
    "       'new_deaths_smoothed', 'total_cases_per_million',\n",
    "       'new_cases_per_million', 'new_cases_smoothed_per_million',\n",
    "       'total_deaths_per_million', 'new_deaths_per_million',\n",
    "       'new_deaths_smoothed_per_million', 'new_tests', 'total_tests',\n",
    "       'total_tests_per_thousand', 'new_tests_per_thousand',\n",
    "       'new_tests_smoothed', 'new_tests_smoothed_per_thousand',\n",
    "       'tests_per_case', 'positive_rate', 'tests_units', 'stringency_index',\n",
    "       'population', 'median_age', 'aged_65_older',\n",
    "       'aged_70_older', 'gdp_per_capita', 'extreme_poverty',\n",
    "       'cardiovasc_death_rate', 'diabetes_prevalence', 'female_smokers',\n",
    "       'male_smokers', 'handwashing_facilities', 'hospital_beds_per_thousand',\n",
    "       'life_expectancy', 'human_development_index','continent'])\n",
    "\n"
   ]
  },
  {
   "cell_type": "code",
   "execution_count": 8,
   "metadata": {},
   "outputs": [
    {
     "output_type": "execute_result",
     "data": {
      "text/plain": "array([&#39;Aruba&#39;, &#39;Afghanistan&#39;, &#39;Angola&#39;, &#39;Anguilla&#39;, &#39;Albania&#39;, &#39;Andorra&#39;,\n       &#39;United Arab Emirates&#39;, &#39;Argentina&#39;, &#39;Armenia&#39;,\n       &#39;Antigua and Barbuda&#39;, &#39;Australia&#39;, &#39;Austria&#39;, &#39;Azerbaijan&#39;,\n       &#39;Burundi&#39;, &#39;Belgium&#39;, &#39;Benin&#39;, &#39;Bonaire Sint Eustatius and Saba&#39;,\n       &#39;Burkina Faso&#39;, &#39;Bangladesh&#39;, &#39;Bulgaria&#39;, &#39;Bahrain&#39;, &#39;Bahamas&#39;,\n       &#39;Bosnia and Herzegovina&#39;, &#39;Belarus&#39;, &#39;Belize&#39;, &#39;Bermuda&#39;,\n       &#39;Bolivia&#39;, &#39;Brazil&#39;, &#39;Barbados&#39;, &#39;Brunei&#39;, &#39;Bhutan&#39;, &#39;Botswana&#39;,\n       &#39;Central African Republic&#39;, &#39;Canada&#39;, &#39;Switzerland&#39;, &#39;Chile&#39;,\n       &#39;China&#39;, &quot;Cote d&#39;Ivoire&quot;, &#39;Cameroon&#39;,\n       &#39;Democratic Republic of Congo&#39;, &#39;Congo&#39;, &#39;Colombia&#39;, &#39;Comoros&#39;,\n       &#39;Cape Verde&#39;, &#39;Costa Rica&#39;, &#39;Cuba&#39;, &#39;Curacao&#39;, &#39;Cayman Islands&#39;,\n       &#39;Cyprus&#39;, &#39;Czech Republic&#39;, &#39;Germany&#39;, &#39;Djibouti&#39;, &#39;Dominica&#39;,\n       &#39;Denmark&#39;, &#39;Dominican Republic&#39;, &#39;Algeria&#39;, &#39;Ecuador&#39;, &#39;Egypt&#39;,\n       &#39;Eritrea&#39;, &#39;Western Sahara&#39;, &#39;Spain&#39;, &#39;Estonia&#39;, &#39;Ethiopia&#39;,\n       &#39;Finland&#39;, &#39;Fiji&#39;, &#39;Falkland Islands&#39;, &#39;France&#39;, &#39;Faeroe Islands&#39;,\n       &#39;Gabon&#39;, &#39;United Kingdom&#39;, &#39;Georgia&#39;, &#39;Guernsey&#39;, &#39;Ghana&#39;,\n       &#39;Gibraltar&#39;, &#39;Guinea&#39;, &#39;Gambia&#39;, &#39;Guinea-Bissau&#39;,\n       &#39;Equatorial Guinea&#39;, &#39;Greece&#39;, &#39;Grenada&#39;, &#39;Greenland&#39;, &#39;Guatemala&#39;,\n       &#39;Guam&#39;, &#39;Guyana&#39;, &#39;Hong Kong&#39;, &#39;Honduras&#39;, &#39;Croatia&#39;, &#39;Haiti&#39;,\n       &#39;Hungary&#39;, &#39;Indonesia&#39;, &#39;Isle of Man&#39;, &#39;India&#39;, &#39;Ireland&#39;, &#39;Iran&#39;,\n       &#39;Iraq&#39;, &#39;Iceland&#39;, &#39;Israel&#39;, &#39;Italy&#39;, &#39;Jamaica&#39;, &#39;Jersey&#39;,\n       &#39;Jordan&#39;, &#39;Japan&#39;, &#39;Kazakhstan&#39;, &#39;Kenya&#39;, &#39;Kyrgyzstan&#39;, &#39;Cambodia&#39;,\n       &#39;Saint Kitts and Nevis&#39;, &#39;South Korea&#39;, &#39;Kuwait&#39;, &#39;Laos&#39;,\n       &#39;Lebanon&#39;, &#39;Liberia&#39;, &#39;Libya&#39;, &#39;Saint Lucia&#39;, &#39;Liechtenstein&#39;,\n       &#39;Sri Lanka&#39;, &#39;Lesotho&#39;, &#39;Lithuania&#39;, &#39;Luxembourg&#39;, &#39;Latvia&#39;,\n       &#39;Morocco&#39;, &#39;Monaco&#39;, &#39;Moldova&#39;, &#39;Madagascar&#39;, &#39;Maldives&#39;, &#39;Mexico&#39;,\n       &#39;Macedonia&#39;, &#39;Mali&#39;, &#39;Malta&#39;, &#39;Myanmar&#39;, &#39;Montenegro&#39;, &#39;Mongolia&#39;,\n       &#39;Northern Mariana Islands&#39;, &#39;Mozambique&#39;, &#39;Mauritania&#39;,\n       &#39;Montserrat&#39;, &#39;Mauritius&#39;, &#39;Malawi&#39;, &#39;Malaysia&#39;, &#39;Namibia&#39;,\n       &#39;New Caledonia&#39;, &#39;Niger&#39;, &#39;Nigeria&#39;, &#39;Nicaragua&#39;, &#39;Netherlands&#39;,\n       &#39;Norway&#39;, &#39;Nepal&#39;, &#39;New Zealand&#39;, &#39;Oman&#39;, &#39;Pakistan&#39;, &#39;Panama&#39;,\n       &#39;Peru&#39;, &#39;Philippines&#39;, &#39;Papua New Guinea&#39;, &#39;Poland&#39;, &#39;Puerto Rico&#39;,\n       &#39;Portugal&#39;, &#39;Paraguay&#39;, &#39;Palestine&#39;, &#39;French Polynesia&#39;, &#39;Qatar&#39;,\n       &#39;Romania&#39;, &#39;Russia&#39;, &#39;Rwanda&#39;, &#39;Saudi Arabia&#39;, &#39;Sudan&#39;, &#39;Senegal&#39;,\n       &#39;Singapore&#39;, &#39;Sierra Leone&#39;, &#39;El Salvador&#39;, &#39;San Marino&#39;,\n       &#39;Somalia&#39;, &#39;Serbia&#39;, &#39;South Sudan&#39;, &#39;Sao Tome and Principe&#39;,\n       &#39;Suriname&#39;, &#39;Slovakia&#39;, &#39;Slovenia&#39;, &#39;Sweden&#39;, &#39;Swaziland&#39;,\n       &#39;Sint Maarten (Dutch part)&#39;, &#39;Seychelles&#39;, &#39;Syria&#39;,\n       &#39;Turks and Caicos Islands&#39;, &#39;Chad&#39;, &#39;Togo&#39;, &#39;Thailand&#39;,\n       &#39;Tajikistan&#39;, &#39;Timor&#39;, &#39;Trinidad and Tobago&#39;, &#39;Tunisia&#39;, &#39;Turkey&#39;,\n       &#39;Taiwan&#39;, &#39;Tanzania&#39;, &#39;Uganda&#39;, &#39;Ukraine&#39;, &#39;Uruguay&#39;,\n       &#39;United States&#39;, &#39;Uzbekistan&#39;, &#39;Vatican&#39;,\n       &#39;Saint Vincent and the Grenadines&#39;, &#39;Venezuela&#39;,\n       &#39;British Virgin Islands&#39;, &#39;United States Virgin Islands&#39;,\n       &#39;Vietnam&#39;, &#39;Kosovo&#39;, &#39;Yemen&#39;, &#39;South Africa&#39;, &#39;Zambia&#39;, &#39;Zimbabwe&#39;,\n       &#39;World&#39;, &#39;International&#39;], dtype=object)"
     },
     "metadata": {},
     "execution_count": 8
    }
   ],
   "source": [
    "# Determining the number of Unique Countries\n",
    "pop_density_cases['location'].unique()"
   ]
  },
  {
   "cell_type": "code",
   "execution_count": 9,
   "metadata": {},
   "outputs": [
    {
     "output_type": "execute_result",
     "data": {
      "text/plain": "       location        date  total_cases  population_density\n0         Aruba  2020-03-13          2.0             584.800\n1         Aruba  2020-03-19          0.0             584.800\n2         Aruba  2020-03-20          4.0             584.800\n3         Aruba  2020-03-21          0.0             584.800\n4         Aruba  2020-03-22          0.0             584.800\n...         ...         ...          ...                 ...\n46561  Zimbabwe  2020-09-26       7787.0              42.729\n46562  Zimbabwe  2020-09-27       7803.0              42.729\n46563  Zimbabwe  2020-09-28       7812.0              42.729\n46564  Zimbabwe  2020-09-29       7816.0              42.729\n46565  Zimbabwe  2020-09-30       7837.0              42.729\n\n[46566 rows x 4 columns]",
      "text/html": "<div>\n<style scoped>\n    .dataframe tbody tr th:only-of-type {\n        vertical-align: middle;\n    }\n\n    .dataframe tbody tr th {\n        vertical-align: top;\n    }\n\n    .dataframe thead th {\n        text-align: right;\n    }\n</style>\n<table border=\"1\" class=\"dataframe\">\n  <thead>\n    <tr style=\"text-align: right;\">\n      <th></th>\n      <th>location</th>\n      <th>date</th>\n      <th>total_cases</th>\n      <th>population_density</th>\n    </tr>\n  </thead>\n  <tbody>\n    <tr>\n      <th>0</th>\n      <td>Aruba</td>\n      <td>2020-03-13</td>\n      <td>2.0</td>\n      <td>584.800</td>\n    </tr>\n    <tr>\n      <th>1</th>\n      <td>Aruba</td>\n      <td>2020-03-19</td>\n      <td>0.0</td>\n      <td>584.800</td>\n    </tr>\n    <tr>\n      <th>2</th>\n      <td>Aruba</td>\n      <td>2020-03-20</td>\n      <td>4.0</td>\n      <td>584.800</td>\n    </tr>\n    <tr>\n      <th>3</th>\n      <td>Aruba</td>\n      <td>2020-03-21</td>\n      <td>0.0</td>\n      <td>584.800</td>\n    </tr>\n    <tr>\n      <th>4</th>\n      <td>Aruba</td>\n      <td>2020-03-22</td>\n      <td>0.0</td>\n      <td>584.800</td>\n    </tr>\n    <tr>\n      <th>...</th>\n      <td>...</td>\n      <td>...</td>\n      <td>...</td>\n      <td>...</td>\n    </tr>\n    <tr>\n      <th>46561</th>\n      <td>Zimbabwe</td>\n      <td>2020-09-26</td>\n      <td>7787.0</td>\n      <td>42.729</td>\n    </tr>\n    <tr>\n      <th>46562</th>\n      <td>Zimbabwe</td>\n      <td>2020-09-27</td>\n      <td>7803.0</td>\n      <td>42.729</td>\n    </tr>\n    <tr>\n      <th>46563</th>\n      <td>Zimbabwe</td>\n      <td>2020-09-28</td>\n      <td>7812.0</td>\n      <td>42.729</td>\n    </tr>\n    <tr>\n      <th>46564</th>\n      <td>Zimbabwe</td>\n      <td>2020-09-29</td>\n      <td>7816.0</td>\n      <td>42.729</td>\n    </tr>\n    <tr>\n      <th>46565</th>\n      <td>Zimbabwe</td>\n      <td>2020-09-30</td>\n      <td>7837.0</td>\n      <td>42.729</td>\n    </tr>\n  </tbody>\n</table>\n<p>46566 rows × 4 columns</p>\n</div>"
     },
     "metadata": {},
     "execution_count": 9
    }
   ],
   "source": [
    "# Dropping World and International Data from this frame\n",
    "pop_density_cases = pop_density_cases[(pop_density_cases['location']!='International') & (pop_density_cases['location']!='World')]\n",
    "pop_density_cases"
   ]
  },
  {
   "cell_type": "code",
   "execution_count": 10,
   "metadata": {},
   "outputs": [
    {
     "output_type": "execute_result",
     "data": {
      "text/plain": "           location        date  total_cases  population_density\n196           Aruba  2020-09-30       3934.0             584.800\n471     Afghanistan  2020-09-30      39254.0              54.422\n664          Angola  2020-09-30       4905.0              23.890\n852        Anguilla  2020-09-30          3.0               0.000\n1058        Albania  2020-09-30      13518.0             104.871\n...             ...         ...          ...                 ...\n45764        Kosovo  2020-09-30      15574.0             168.155\n45938         Yemen  2020-09-30       2035.0              53.508\n46175  South Africa  2020-09-30     672572.0              46.754\n46371        Zambia  2020-09-30      14715.0              22.995\n46565      Zimbabwe  2020-09-30       7837.0              42.729\n\n[210 rows x 4 columns]",
      "text/html": "<div>\n<style scoped>\n    .dataframe tbody tr th:only-of-type {\n        vertical-align: middle;\n    }\n\n    .dataframe tbody tr th {\n        vertical-align: top;\n    }\n\n    .dataframe thead th {\n        text-align: right;\n    }\n</style>\n<table border=\"1\" class=\"dataframe\">\n  <thead>\n    <tr style=\"text-align: right;\">\n      <th></th>\n      <th>location</th>\n      <th>date</th>\n      <th>total_cases</th>\n      <th>population_density</th>\n    </tr>\n  </thead>\n  <tbody>\n    <tr>\n      <th>196</th>\n      <td>Aruba</td>\n      <td>2020-09-30</td>\n      <td>3934.0</td>\n      <td>584.800</td>\n    </tr>\n    <tr>\n      <th>471</th>\n      <td>Afghanistan</td>\n      <td>2020-09-30</td>\n      <td>39254.0</td>\n      <td>54.422</td>\n    </tr>\n    <tr>\n      <th>664</th>\n      <td>Angola</td>\n      <td>2020-09-30</td>\n      <td>4905.0</td>\n      <td>23.890</td>\n    </tr>\n    <tr>\n      <th>852</th>\n      <td>Anguilla</td>\n      <td>2020-09-30</td>\n      <td>3.0</td>\n      <td>0.000</td>\n    </tr>\n    <tr>\n      <th>1058</th>\n      <td>Albania</td>\n      <td>2020-09-30</td>\n      <td>13518.0</td>\n      <td>104.871</td>\n    </tr>\n    <tr>\n      <th>...</th>\n      <td>...</td>\n      <td>...</td>\n      <td>...</td>\n      <td>...</td>\n    </tr>\n    <tr>\n      <th>45764</th>\n      <td>Kosovo</td>\n      <td>2020-09-30</td>\n      <td>15574.0</td>\n      <td>168.155</td>\n    </tr>\n    <tr>\n      <th>45938</th>\n      <td>Yemen</td>\n      <td>2020-09-30</td>\n      <td>2035.0</td>\n      <td>53.508</td>\n    </tr>\n    <tr>\n      <th>46175</th>\n      <td>South Africa</td>\n      <td>2020-09-30</td>\n      <td>672572.0</td>\n      <td>46.754</td>\n    </tr>\n    <tr>\n      <th>46371</th>\n      <td>Zambia</td>\n      <td>2020-09-30</td>\n      <td>14715.0</td>\n      <td>22.995</td>\n    </tr>\n    <tr>\n      <th>46565</th>\n      <td>Zimbabwe</td>\n      <td>2020-09-30</td>\n      <td>7837.0</td>\n      <td>42.729</td>\n    </tr>\n  </tbody>\n</table>\n<p>210 rows × 4 columns</p>\n</div>"
     },
     "metadata": {},
     "execution_count": 10
    }
   ],
   "source": [
    "# Filtering out the data to determine the latest reported number of cases in each country\n",
    "pop_density_cases = pop_density_cases.drop_duplicates('location',keep='last')\n",
    "pop_density_cases"
   ]
  },
  {
   "cell_type": "code",
   "execution_count": 15,
   "metadata": {},
   "outputs": [
    {
     "output_type": "error",
     "ename": "AttributeError",
     "evalue": "&#39;function&#39; object has no attribute &#39;index&#39;",
     "traceback": [
      "\u001b[1;31m---------------------------------------------------------------------------\u001b[0m",
      "\u001b[1;31mAttributeError\u001b[0m                            Traceback (most recent call last)",
      "\u001b[1;32m&lt;ipython-input-15-3ba64b01ab21&gt;\u001b[0m in \u001b[0;36m&lt;module&gt;\u001b[1;34m\u001b[0m\n\u001b[0;32m      1\u001b[0m \u001b[1;31m# Sorting Values based on population density\u001b[0m\u001b[1;33m\u001b[0m\u001b[1;33m\u001b[0m\u001b[1;33m\u001b[0m\u001b[0m\n\u001b[0;32m      2\u001b[0m \u001b[0mpop_density_cases\u001b[0m \u001b[1;33m=\u001b[0m \u001b[0mpop_density_cases\u001b[0m\u001b[1;33m.\u001b[0m\u001b[0msort_values\u001b[0m\u001b[1;33m(\u001b[0m\u001b[1;34m&#39;population_density&#39;\u001b[0m\u001b[1;33m,\u001b[0m\u001b[0mascending\u001b[0m\u001b[1;33m=\u001b[0m\u001b[1;32mTrue\u001b[0m\u001b[1;33m)\u001b[0m\u001b[1;33m.\u001b[0m\u001b[0mreset_index\u001b[0m\u001b[1;33m\u001b[0m\u001b[1;33m\u001b[0m\u001b[0m\n\u001b[1;32m----&gt; 3\u001b[1;33m \u001b[0mpop_density_cases\u001b[0m\u001b[1;33m.\u001b[0m\u001b[0mindex\u001b[0m\u001b[1;33m.\u001b[0m\u001b[0mname\u001b[0m \u001b[1;33m=\u001b[0m \u001b[1;32mNone\u001b[0m\u001b[1;33m\u001b[0m\u001b[1;33m\u001b[0m\u001b[0m\n\u001b[0m\u001b[0;32m      4\u001b[0m \u001b[0mpop_density_cases\u001b[0m\u001b[1;33m\u001b[0m\u001b[1;33m\u001b[0m\u001b[0m\n",
      "\u001b[1;31mAttributeError\u001b[0m: &#39;function&#39; object has no attribute &#39;index&#39;"
     ]
    }
   ],
   "source": [
    "# Sorting Values based on population density\n",
    "pop_density_cases = pop_density_cases.sort_values('population_density',ascending=True).reset_index\n",
    "pop_density_cases.index.name = None\n",
    "pop_density_cases"
   ]
  },
  {
   "cell_type": "code",
   "execution_count": null,
   "metadata": {},
   "outputs": [],
   "source": []
  }
 ]
}
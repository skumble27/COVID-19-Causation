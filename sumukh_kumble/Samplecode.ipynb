{
 "metadata": {
  "language_info": {
   "codemirror_mode": {
    "name": "ipython",
    "version": 3
   },
   "file_extension": ".py",
   "mimetype": "text/x-python",
   "name": "python",
   "nbconvert_exporter": "python",
   "pygments_lexer": "ipython3",
   "version": "3.6.12-final"
  },
  "orig_nbformat": 2,
  "kernelspec": {
   "name": "python_defaultSpec_1601865807729",
   "display_name": "Python 3.6.12 64-bit ('apiproject': conda)"
  }
 },
 "nbformat": 4,
 "nbformat_minor": 2,
 "cells": [
  {
   "cell_type": "code",
   "execution_count": null,
   "metadata": {},
   "outputs": [],
   "source": [
    "# Selecting relevant columns for data Analysis\n",
    "gdp_death_rate = raw_covid_19_data[['location','gdp_per_capita','total_deaths']]\n",
    "\n",
    "\n",
    "\n",
    "# Dropping International and World From the DataFrame\n",
    "gdp_death_rate = gdp_death_rate[\n",
    "    (gdp_death_rate['location']!='World')&\n",
    "    (gdp_death_rate['location']!='International')]\n",
    "\n",
    "# Dropping Duplicate Rows\n",
    "gdp_death_rate = gdp_death_rate.drop_duplicates('location',keep='last').reset_index(drop=True)\n",
    "\n",
    "# Plotting Two Subplots\n",
    "x_gdp = gdp_death_rate['gdp_per_capita']\n",
    "y_td = gdp_death_rate['total_deaths']\n",
    "y_inf_rate = country_infection_rate['Infection Rate']\n",
    "\n",
    "fig2, ax2 = plt.subplots(2)\n",
    "fig2.suptitle(f'GDP vs Infection Rate and Death Toll\\nAnalysed on {current_time}')\n",
    "plt.xlabel('GDP Rate', fontsize=15)\n",
    "fig2.set_size_inches(10,10)\n",
    "ax2[0].scatter(x_gdp, y_td, edgecolor='black', c='#00fff7')\n",
    "ax2[0].set_ylabel('Total Deaths',fontsize=15)\n",
    "ax2[0].set_yscale(\"log\")\n",
    "ax2[1].scatter(x_gdp, y_inf_rate, edgecolor='black', c='#ff0019')\n",
    "ax2[1].set_ylabel('Infection Rate',fontsize=15)\n",
    "\n",
    "fig1.tight_layout()\n",
    "ax2[0].grid(True)\n",
    "ax2[1].grid(True)\n",
    "plt.show()"
   ]
  },
  {
   "cell_type": "code",
   "execution_count": null,
   "metadata": {},
   "outputs": [],
   "source": [
    "# Selecting relevant columns for data Analysis\n",
    "gdp_death_rate = raw_covid_19_data[['location','gdp_per_capita','total_deaths']]\n",
    "\n",
    "\n",
    "\n",
    "# Dropping International and World From the DataFrame\n",
    "gdp_death_rate = gdp_death_rate[\n",
    "    (gdp_death_rate['location']!='World')&\n",
    "    (gdp_death_rate['location']!='International')]\n",
    "\n",
    "# Dropping Duplicate Rows\n",
    "gdp_death_rate = gdp_death_rate.drop_duplicates('location',keep='last').reset_index(drop=True)\n",
    "\n",
    "# Plotting Two Subplots\n",
    "x_gdp = gdp_death_rate['gdp_per_capita']\n",
    "y_td = gdp_death_rate['total_deaths']\n",
    "y_inf_rate = country_infection_rate['Infection Rate']\n",
    "\n",
    "plt.figure()\n",
    "\n",
    "plt.subplot(111)\n",
    "plt.title(f'GDP vs Death Toll\\nAnalysed on {current_time}')\n",
    "plt.scatter(x_gdp, y_td, edgecolors='black', c='#00fff7')\n",
    "plt.yscale('symlog')\n",
    "plt.ylabel('Total Deaths',fontsize=15)\n",
    "\n",
    "plt.grid(True)"
   ]
  },
  {
   "cell_type": "code",
   "execution_count": 1,
   "metadata": {},
   "outputs": [
    {
     "output_type": "error",
     "ename": "NameError",
     "evalue": "name &#39;x&#39; is not defined",
     "traceback": [
      "\u001b[1;31m---------------------------------------------------------------------------\u001b[0m",
      "\u001b[1;31mNameError\u001b[0m                                 Traceback (most recent call last)",
      "\u001b[1;32m&lt;ipython-input-1-e89997940f79&gt;\u001b[0m in \u001b[0;36m&lt;module&gt;\u001b[1;34m\u001b[0m\n\u001b[0;32m      4\u001b[0m \u001b[0max\u001b[0m \u001b[1;33m=\u001b[0m \u001b[0mfig\u001b[0m\u001b[1;33m.\u001b[0m\u001b[0madd_subplot\u001b[0m\u001b[1;33m(\u001b[0m\u001b[1;36m111\u001b[0m\u001b[1;33m)\u001b[0m\u001b[1;33m\u001b[0m\u001b[1;33m\u001b[0m\u001b[0m\n\u001b[0;32m      5\u001b[0m \u001b[1;33m\u001b[0m\u001b[0m\n\u001b[1;32m----&gt; 6\u001b[1;33m \u001b[0mz\u001b[0m\u001b[1;33m=\u001b[0m\u001b[0mnp\u001b[0m\u001b[1;33m.\u001b[0m\u001b[0marange\u001b[0m\u001b[1;33m(\u001b[0m\u001b[1;36m1\u001b[0m\u001b[1;33m,\u001b[0m \u001b[0mlen\u001b[0m\u001b[1;33m(\u001b[0m\u001b[0mx\u001b[0m\u001b[1;33m)\u001b[0m\u001b[1;33m+\u001b[0m\u001b[1;36m1\u001b[0m\u001b[1;33m)\u001b[0m \u001b[1;31m#start at 1, to avoid error from log(0)\u001b[0m\u001b[1;33m\u001b[0m\u001b[1;33m\u001b[0m\u001b[0m\n\u001b[0m\u001b[0;32m      7\u001b[0m \u001b[1;33m\u001b[0m\u001b[0m\n\u001b[0;32m      8\u001b[0m \u001b[0mlogA\u001b[0m \u001b[1;33m=\u001b[0m \u001b[0mnp\u001b[0m\u001b[1;33m.\u001b[0m\u001b[0mlog\u001b[0m\u001b[1;33m(\u001b[0m\u001b[0mz\u001b[0m\u001b[1;33m)\u001b[0m \u001b[1;31m#no need for list comprehension since all z values &gt;= 1\u001b[0m\u001b[1;33m\u001b[0m\u001b[1;33m\u001b[0m\u001b[0m\n",
      "\u001b[1;31mNameError\u001b[0m: name &#39;x&#39; is not defined"
     ]
    }
   ],
   "source": [
    "import matplotlib.pyplot as plt\n",
    "import numpy as np\n",
    "fig=plt.figure()\n",
    "ax = fig.add_subplot(111)\n",
    "\n",
    "z=np.arange(1, len(x)+1) #start at 1, to avoid error from log(0)\n",
    "\n",
    "logA = np.log(z) #no need for list comprehension since all z values >= 1\n",
    "logB = np.log(y)\n",
    "\n",
    "m, c = np.polyfit(logA, logB, 1, w=np.sqrt(y)) # fit log(y) = m*log(x) + c\n",
    "y_fit = np.exp(m*logA + c) # calculate the fitted values of y \n",
    "\n",
    "plt.plot(z, y, color = 'r')\n",
    "plt.plot(z, y_fit, ':')\n",
    "\n",
    "ax.set_yscale('symlog')\n",
    "ax.set_xscale('symlog')\n",
    "#slope, intercept = np.polyfit(logA, logB, 1)\n",
    "plt.xlabel(\"Pre_referer\")\n",
    "plt.ylabel(\"Popularity\")\n",
    "ax.set_title('Pre Referral URL Popularity distribution')\n",
    "plt.show()"
   ]
  },
  {
   "cell_type": "code",
   "execution_count": null,
   "metadata": {},
   "outputs": [],
   "source": [
    "# Scatter Plot\n",
    "x_pop_density = clean_pop_density_case['population_density']\n",
    "y_total_cases = clean_pop_density_case['total_cases']\n",
    "\n",
    "# Linear Regression Equation\n",
    "pop_slope, pop_int, pop_r, pop_p, pop_stderr = st.linregress(x_pop_density, y_total_cases)\n",
    "\n",
    "pop_line_eq = f'y = {str(round(pop_slope,2))}x + {str(round(pop_int,2))}'\n",
    "\n",
    "pop_line_of_best_fit = x_pop_density * pop_slope + pop_int\n",
    "\n",
    "\n",
    "fig1, ax1 = plt.subplots()\n",
    "ax1.set_title(f'Population Density vs Case Numbers\\nAnalysed on {current_time}')\n",
    "ax1.set_ylabel(f'Total Cases')\n",
    "ax1.set_xlabel(f'Population Density')\n",
    "ax1.scatter(x_pop_density,y_total_cases, edgecolors='#000000', c='#0ac940')\n",
    "ax1.plot(x_pop_density, pop_line_of_best_fit, c='#00e5ff')\n",
    "ax1.grid(True)\n",
    "fig1.tight_layout()\n",
    "ax1.legend([pop_line_eq])\n",
    "print(f'The r-squared value is: {pop_r**2}\\nThe linear regression equation is {pop_line_eq}')\n",
    "plt.savefig('..\\Images\\population_den_total_cases.png')\n",
    "plt.show()\n"
   ]
  },
  {
   "cell_type": "code",
   "execution_count": null,
   "metadata": {},
   "outputs": [],
   "source": []
  }
 ]
}
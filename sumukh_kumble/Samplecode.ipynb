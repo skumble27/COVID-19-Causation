{
 "metadata": {
  "language_info": {
   "codemirror_mode": {
    "name": "ipython",
    "version": 3
   },
   "file_extension": ".py",
   "mimetype": "text/x-python",
   "name": "python",
   "nbconvert_exporter": "python",
   "pygments_lexer": "ipython3",
   "version": "3.6.12-final"
  },
  "orig_nbformat": 2,
  "kernelspec": {
   "name": "Python 3.6.12 64-bit ('BootCampMonash': conda)",
   "display_name": "Python 3.6.12 64-bit ('BootCampMonash': conda)",
   "metadata": {
    "interpreter": {
     "hash": "6858991ae45970477c979e20bd003b285324046a59fb015a65b3ffb3c3b75fd3"
    }
   }
  }
 },
 "nbformat": 4,
 "nbformat_minor": 2,
 "cells": [
  {
   "cell_type": "code",
   "execution_count": null,
   "metadata": {},
   "outputs": [],
   "source": [
    "# Selecting relevant columns for data Analysis\n",
    "gdp_death_rate = raw_covid_19_data[['location','gdp_per_capita','total_deaths']]\n",
    "\n",
    "\n",
    "\n",
    "# Dropping International and World From the DataFrame\n",
    "gdp_death_rate = gdp_death_rate[\n",
    "    (gdp_death_rate['location']!='World')&\n",
    "    (gdp_death_rate['location']!='International')]\n",
    "\n",
    "# Dropping Duplicate Rows\n",
    "gdp_death_rate = gdp_death_rate.drop_duplicates('location',keep='last').reset_index(drop=True)\n",
    "\n",
    "# Plotting Two Subplots\n",
    "x_gdp = gdp_death_rate['gdp_per_capita']\n",
    "y_td = gdp_death_rate['total_deaths']\n",
    "y_inf_rate = country_infection_rate['Infection Rate']\n",
    "\n",
    "fig2, ax2 = plt.subplots(2)\n",
    "fig2.suptitle(f'GDP vs Infection Rate and Death Toll\\nAnalysed on {current_time}')\n",
    "plt.xlabel('GDP Rate', fontsize=15)\n",
    "fig2.set_size_inches(10,10)\n",
    "ax2[0].scatter(x_gdp, y_td, edgecolor='black', c='#00fff7')\n",
    "ax2[0].set_ylabel('Total Deaths',fontsize=15)\n",
    "ax2[0].set_yscale(\"log\")\n",
    "ax2[1].scatter(x_gdp, y_inf_rate, edgecolor='black', c='#ff0019')\n",
    "ax2[1].set_ylabel('Infection Rate',fontsize=15)\n",
    "\n",
    "fig1.tight_layout()\n",
    "ax2[0].grid(True)\n",
    "ax2[1].grid(True)\n",
    "plt.show()"
   ]
  },
  {
   "cell_type": "code",
   "execution_count": null,
   "metadata": {},
   "outputs": [],
   "source": [
    "# Selecting relevant columns for data Analysis\n",
    "gdp_death_rate = raw_covid_19_data[['location','gdp_per_capita','total_deaths']]\n",
    "\n",
    "\n",
    "\n",
    "# Dropping International and World From the DataFrame\n",
    "gdp_death_rate = gdp_death_rate[\n",
    "    (gdp_death_rate['location']!='World')&\n",
    "    (gdp_death_rate['location']!='International')]\n",
    "\n",
    "# Dropping Duplicate Rows\n",
    "gdp_death_rate = gdp_death_rate.drop_duplicates('location',keep='last').reset_index(drop=True)\n",
    "\n",
    "# Plotting Two Subplots\n",
    "x_gdp = gdp_death_rate['gdp_per_capita']\n",
    "y_td = gdp_death_rate['total_deaths']\n",
    "y_inf_rate = country_infection_rate['Infection Rate']\n",
    "\n",
    "plt.figure()\n",
    "\n",
    "plt.subplot(111)\n",
    "plt.title(f'GDP vs Death Toll\\nAnalysed on {current_time}')\n",
    "plt.scatter(x_gdp, y_td, edgecolors='black', c='#00fff7')\n",
    "plt.yscale('symlog')\n",
    "plt.ylabel('Total Deaths',fontsize=15)\n",
    "\n",
    "plt.grid(True)"
   ]
  },
  {
   "cell_type": "code",
   "execution_count": 1,
   "metadata": {},
   "outputs": [
    {
     "output_type": "error",
     "ename": "NameError",
     "evalue": "name &#39;x&#39; is not defined",
     "traceback": [
      "\u001b[1;31m---------------------------------------------------------------------------\u001b[0m",
      "\u001b[1;31mNameError\u001b[0m                                 Traceback (most recent call last)",
      "\u001b[1;32m&lt;ipython-input-1-e89997940f79&gt;\u001b[0m in \u001b[0;36m&lt;module&gt;\u001b[1;34m\u001b[0m\n\u001b[0;32m      4\u001b[0m \u001b[0max\u001b[0m \u001b[1;33m=\u001b[0m \u001b[0mfig\u001b[0m\u001b[1;33m.\u001b[0m\u001b[0madd_subplot\u001b[0m\u001b[1;33m(\u001b[0m\u001b[1;36m111\u001b[0m\u001b[1;33m)\u001b[0m\u001b[1;33m\u001b[0m\u001b[1;33m\u001b[0m\u001b[0m\n\u001b[0;32m      5\u001b[0m \u001b[1;33m\u001b[0m\u001b[0m\n\u001b[1;32m----&gt; 6\u001b[1;33m \u001b[0mz\u001b[0m\u001b[1;33m=\u001b[0m\u001b[0mnp\u001b[0m\u001b[1;33m.\u001b[0m\u001b[0marange\u001b[0m\u001b[1;33m(\u001b[0m\u001b[1;36m1\u001b[0m\u001b[1;33m,\u001b[0m \u001b[0mlen\u001b[0m\u001b[1;33m(\u001b[0m\u001b[0mx\u001b[0m\u001b[1;33m)\u001b[0m\u001b[1;33m+\u001b[0m\u001b[1;36m1\u001b[0m\u001b[1;33m)\u001b[0m \u001b[1;31m#start at 1, to avoid error from log(0)\u001b[0m\u001b[1;33m\u001b[0m\u001b[1;33m\u001b[0m\u001b[0m\n\u001b[0m\u001b[0;32m      7\u001b[0m \u001b[1;33m\u001b[0m\u001b[0m\n\u001b[0;32m      8\u001b[0m \u001b[0mlogA\u001b[0m \u001b[1;33m=\u001b[0m \u001b[0mnp\u001b[0m\u001b[1;33m.\u001b[0m\u001b[0mlog\u001b[0m\u001b[1;33m(\u001b[0m\u001b[0mz\u001b[0m\u001b[1;33m)\u001b[0m \u001b[1;31m#no need for list comprehension since all z values &gt;= 1\u001b[0m\u001b[1;33m\u001b[0m\u001b[1;33m\u001b[0m\u001b[0m\n",
      "\u001b[1;31mNameError\u001b[0m: name &#39;x&#39; is not defined"
     ]
    }
   ],
   "source": [
    "import matplotlib.pyplot as plt\n",
    "import numpy as np\n",
    "fig=plt.figure()\n",
    "ax = fig.add_subplot(111)\n",
    "\n",
    "z=np.arange(1, len(x)+1) #start at 1, to avoid error from log(0)\n",
    "\n",
    "logA = np.log(z) #no need for list comprehension since all z values >= 1\n",
    "logB = np.log(y)\n",
    "\n",
    "m, c = np.polyfit(logA, logB, 1, w=np.sqrt(y)) # fit log(y) = m*log(x) + c\n",
    "y_fit = np.exp(m*logA + c) # calculate the fitted values of y \n",
    "\n",
    "plt.plot(z, y, color = 'r')\n",
    "plt.plot(z, y_fit, ':')\n",
    "\n",
    "ax.set_yscale('symlog')\n",
    "ax.set_xscale('symlog')\n",
    "#slope, intercept = np.polyfit(logA, logB, 1)\n",
    "plt.xlabel(\"Pre_referer\")\n",
    "plt.ylabel(\"Popularity\")\n",
    "ax.set_title('Pre Referral URL Popularity distribution')\n",
    "plt.show()"
   ]
  },
  {
   "cell_type": "code",
   "execution_count": null,
   "metadata": {},
   "outputs": [],
   "source": [
    "# Scatter Plot\n",
    "x_pop_density = clean_pop_density_case['population_density']\n",
    "y_total_cases = clean_pop_density_case['total_cases']\n",
    "\n",
    "# Linear Regression Equation\n",
    "pop_slope, pop_int, pop_r, pop_p, pop_stderr = st.linregress(x_pop_density, y_total_cases)\n",
    "\n",
    "pop_line_eq = f'y = {str(round(pop_slope,2))}x + {str(round(pop_int,2))}'\n",
    "\n",
    "pop_line_of_best_fit = x_pop_density * pop_slope + pop_int\n",
    "\n",
    "\n",
    "fig1, ax1 = plt.subplots()\n",
    "ax1.set_title(f'Population Density vs Case Numbers\\nAnalysed on {current_time}')\n",
    "ax1.set_ylabel(f'Total Cases')\n",
    "ax1.set_xlabel(f'Population Density')\n",
    "ax1.scatter(x_pop_density,y_total_cases, edgecolors='#000000', c='#0ac940')\n",
    "ax1.plot(x_pop_density, pop_line_of_best_fit, c='#00e5ff')\n",
    "ax1.grid(True)\n",
    "fig1.tight_layout()\n",
    "ax1.legend([pop_line_eq])\n",
    "print(f'The r-squared value is: {pop_r**2}\\nThe linear regression equation is {pop_line_eq}')\n",
    "plt.savefig('..\\Images\\population_den_total_cases.png')\n",
    "plt.show()\n"
   ]
  },
  {
   "cell_type": "code",
   "execution_count": null,
   "metadata": {},
   "outputs": [],
   "source": [
    "Index(['iso_code', 'continent', 'location', 'date', 'total_cases', 'new_cases',\n",
    "       'new_cases_smoothed', 'total_deaths', 'new_deaths',\n",
    "       'new_deaths_smoothed', 'total_cases_per_million',\n",
    "       'new_cases_per_million', 'new_cases_smoothed_per_million',\n",
    "       'total_deaths_per_million', 'new_deaths_per_million',\n",
    "       'new_deaths_smoothed_per_million', 'new_tests', 'total_tests',\n",
    "       'total_tests_per_thousand', 'new_tests_per_thousand',\n",
    "       'new_tests_smoothed', 'new_tests_smoothed_per_thousand',\n",
    "       'tests_per_case', 'positive_rate', 'tests_units', 'stringency_index',\n",
    "       'population', 'population_density', 'median_age', 'aged_65_older',\n",
    "       'aged_70_older', 'gdp_per_capita', 'extreme_poverty',\n",
    "       'cardiovasc_death_rate', 'diabetes_prevalence', 'female_smokers',\n",
    "       'male_smokers', 'handwashing_facilities', 'hospital_beds_per_thousand',\n",
    "       'life_expectancy', 'human_development_index'],\n",
    "      dtype='object')"
   ]
  },
  {
   "cell_type": "code",
   "execution_count": null,
   "metadata": {},
   "outputs": [],
   "source": [
    "# Selecting relevant columns for data Analysis\n",
    "gdp_death_rate = raw_covid_19_data[['location','gdp_per_capita','total_deaths']]\n",
    "\n",
    "# Dropping International and World From the DataFrame\n",
    "gdp_death_rate = gdp_death_rate[\n",
    "    (gdp_death_rate['location']!='World')&\n",
    "    (gdp_death_rate['location']!='International')]\n",
    "\n",
    "# Dropping Duplicate Rows\n",
    "gdp_death_rate = gdp_death_rate.drop_duplicates('location',keep='last').reset_index(drop=True)\n",
    "\n",
    "# Plotting Two Subplots\n",
    "x_gdp = gdp_death_rate['gdp_per_capita']\n",
    "y_td = gdp_death_rate['total_deaths']\n",
    "y_inf_rate = country_infection_rate['Infection Rate']\n",
    "\n",
    "fig2, ax2 = plt.subplots(2)\n",
    "fig2.suptitle(f'GDP vs Infection Rate and Death Toll\\nAnalysed on {current_time}')\n",
    "plt.xlabel('GDP Rate', fontsize=15)\n",
    "\n",
    "ax2[0].scatter(x_gdp, y_td, edgecolor='black', c='#00fff7')\n",
    "ax2[0].set_ylabel('Total Deaths',fontsize=15)\n",
    "\n",
    "ax2[1].scatter(x_gdp, y_inf_rate, edgecolor='black', c='#ff0019')\n",
    "ax2[1].set_ylabel('Infection Rate',fontsize=15)\n",
    "\n",
    "fig1.tight_layout()\n",
    "ax2[0].grid(True)\n",
    "ax2[1].grid(True)\n",
    "plt.show()"
   ]
  },
  {
   "cell_type": "code",
   "execution_count": null,
   "metadata": {},
   "outputs": [],
   "source": [
    "# Creating a random list of countries\n",
    "random_country_list = list(hdi_dataframe['location'].sample(20))\n",
    "\n",
    "# Creating a for loop to select 20 random countries and provide\n",
    "for country1 in random_country_list:\n",
    "\n",
    "    # Creating a new list based on the country selected\n",
    "    \n",
    "    hdi_index = hdi_dataframe[hdi_dataframe['location']==country1]\n",
    "\n",
    "    x_country = hdi_index['location']\n",
    "    y_hdi = hdi_index['human_development_index']\n",
    "    y_total_deaths = hdi_index['total_deaths']\n",
    "\n",
    "    # Bar Graph\n",
    "    fig3, ax3 = plt.subplots(1,1)\n",
    "\n",
    "    \n",
    "    print(f'{x_country}\\n {y_hdi}\\n {y_total_deaths}\\n')\n",
    "\n",
    "\n",
    "    "
   ]
  },
  {
   "cell_type": "code",
   "execution_count": 1,
   "metadata": {},
   "outputs": [
    {
     "output_type": "display_data",
     "data": {
      "text/plain": "&lt;Figure size 432x288 with 1 Axes&gt;",
      "image/svg+xml": "<?xml version=\"1.0\" encoding=\"utf-8\" standalone=\"no\"?>\r\n<!DOCTYPE svg PUBLIC \"-//W3C//DTD SVG 1.1//EN\"\r\n  \"http://www.w3.org/Graphics/SVG/1.1/DTD/svg11.dtd\">\r\n<!-- Created with matplotlib (https://matplotlib.org/) -->\r\n<svg height=\"248.518125pt\" version=\"1.1\" viewBox=\"0 0 368.925 248.518125\" width=\"368.925pt\" xmlns=\"http://www.w3.org/2000/svg\" xmlns:xlink=\"http://www.w3.org/1999/xlink\">\r\n <metadata>\r\n  <rdf:RDF xmlns:cc=\"http://creativecommons.org/ns#\" xmlns:dc=\"http://purl.org/dc/elements/1.1/\" xmlns:rdf=\"http://www.w3.org/1999/02/22-rdf-syntax-ns#\">\r\n   <cc:Work>\r\n    <dc:type rdf:resource=\"http://purl.org/dc/dcmitype/StillImage\"/>\r\n    <dc:date>2020-10-06T13:15:10.366583</dc:date>\r\n    <dc:format>image/svg+xml</dc:format>\r\n    <dc:creator>\r\n     <cc:Agent>\r\n      <dc:title>Matplotlib v3.3.2, https://matplotlib.org/</dc:title>\r\n     </cc:Agent>\r\n    </dc:creator>\r\n   </cc:Work>\r\n  </rdf:RDF>\r\n </metadata>\r\n <defs>\r\n  <style type=\"text/css\">*{stroke-linecap:butt;stroke-linejoin:round;}</style>\r\n </defs>\r\n <g id=\"figure_1\">\r\n  <g id=\"patch_1\">\r\n   <path d=\"M -0 248.518125 \r\nL 368.925 248.518125 \r\nL 368.925 0 \r\nL -0 0 \r\nz\r\n\" style=\"fill:none;\"/>\r\n  </g>\r\n  <g id=\"axes_1\">\r\n   <g id=\"patch_2\">\r\n    <path d=\"M 26.925 224.64 \r\nL 361.725 224.64 \r\nL 361.725 7.2 \r\nL 26.925 7.2 \r\nz\r\n\" style=\"fill:#ffffff;\"/>\r\n   </g>\r\n   <g id=\"patch_3\">\r\n    <path clip-path=\"url(#p16aefc4f3c)\" d=\"M 42.143182 224.64 \r\nL 65.555769 224.64 \r\nL 65.555769 160.921319 \r\nL 42.143182 160.921319 \r\nz\r\n\" style=\"fill:#0000ff;\"/>\r\n   </g>\r\n   <g id=\"patch_4\">\r\n    <path clip-path=\"url(#p16aefc4f3c)\" d=\"M 159.206119 224.64 \r\nL 182.618706 224.64 \r\nL 182.618706 81.272967 \r\nL 159.206119 81.272967 \r\nz\r\n\" style=\"fill:#0000ff;\"/>\r\n   </g>\r\n   <g id=\"patch_5\">\r\n    <path clip-path=\"url(#p16aefc4f3c)\" d=\"M 276.269056 224.64 \r\nL 299.681643 224.64 \r\nL 299.681643 192.780659 \r\nL 276.269056 192.780659 \r\nz\r\n\" style=\"fill:#0000ff;\"/>\r\n   </g>\r\n   <g id=\"patch_6\">\r\n    <path clip-path=\"url(#p16aefc4f3c)\" d=\"M 65.555769 224.64 \r\nL 88.968357 224.64 \r\nL 88.968357 208.71033 \r\nL 65.555769 208.71033 \r\nz\r\n\" style=\"fill:#008000;\"/>\r\n   </g>\r\n   <g id=\"patch_7\">\r\n    <path clip-path=\"url(#p16aefc4f3c)\" d=\"M 182.618706 224.64 \r\nL 206.031294 224.64 \r\nL 206.031294 192.780659 \r\nL 182.618706 192.780659 \r\nz\r\n\" style=\"fill:#008000;\"/>\r\n   </g>\r\n   <g id=\"patch_8\">\r\n    <path clip-path=\"url(#p16aefc4f3c)\" d=\"M 299.681643 224.64 \r\nL 323.094231 224.64 \r\nL 323.094231 176.850989 \r\nL 299.681643 176.850989 \r\nz\r\n\" style=\"fill:#008000;\"/>\r\n   </g>\r\n   <g id=\"patch_9\">\r\n    <path clip-path=\"url(#p16aefc4f3c)\" d=\"M 88.968357 224.64 \r\nL 112.380944 224.64 \r\nL 112.380944 49.413626 \r\nL 88.968357 49.413626 \r\nz\r\n\" style=\"fill:#ff0000;\"/>\r\n   </g>\r\n   <g id=\"patch_10\">\r\n    <path clip-path=\"url(#p16aefc4f3c)\" d=\"M 206.031294 224.64 \r\nL 229.443881 224.64 \r\nL 229.443881 33.483956 \r\nL 206.031294 33.483956 \r\nz\r\n\" style=\"fill:#ff0000;\"/>\r\n   </g>\r\n   <g id=\"patch_11\">\r\n    <path clip-path=\"url(#p16aefc4f3c)\" d=\"M 323.094231 224.64 \r\nL 346.506818 224.64 \r\nL 346.506818 17.554286 \r\nL 323.094231 17.554286 \r\nz\r\n\" style=\"fill:#ff0000;\"/>\r\n   </g>\r\n   <g id=\"matplotlib.axis_1\">\r\n    <g id=\"xtick_1\">\r\n     <g id=\"line2d_1\">\r\n      <defs>\r\n       <path d=\"M 0 0 \r\nL 0 3.5 \r\n\" id=\"mfc9deb0973\" style=\"stroke:#000000;stroke-width:0.8;\"/>\r\n      </defs>\r\n      <g>\r\n       <use style=\"stroke:#000000;stroke-width:0.8;\" x=\"77.262063\" xlink:href=\"#mfc9deb0973\" y=\"224.64\"/>\r\n      </g>\r\n     </g>\r\n     <g id=\"text_1\">\r\n      <!-- 01-04 00 -->\r\n      <g transform=\"translate(54.781594 239.238437)scale(0.1 -0.1)\">\r\n       <defs>\r\n        <path d=\"M 31.78125 66.40625 \r\nQ 24.171875 66.40625 20.328125 58.90625 \r\nQ 16.5 51.421875 16.5 36.375 \r\nQ 16.5 21.390625 20.328125 13.890625 \r\nQ 24.171875 6.390625 31.78125 6.390625 \r\nQ 39.453125 6.390625 43.28125 13.890625 \r\nQ 47.125 21.390625 47.125 36.375 \r\nQ 47.125 51.421875 43.28125 58.90625 \r\nQ 39.453125 66.40625 31.78125 66.40625 \r\nz\r\nM 31.78125 74.21875 \r\nQ 44.046875 74.21875 50.515625 64.515625 \r\nQ 56.984375 54.828125 56.984375 36.375 \r\nQ 56.984375 17.96875 50.515625 8.265625 \r\nQ 44.046875 -1.421875 31.78125 -1.421875 \r\nQ 19.53125 -1.421875 13.0625 8.265625 \r\nQ 6.59375 17.96875 6.59375 36.375 \r\nQ 6.59375 54.828125 13.0625 64.515625 \r\nQ 19.53125 74.21875 31.78125 74.21875 \r\nz\r\n\" id=\"DejaVuSans-48\"/>\r\n        <path d=\"M 12.40625 8.296875 \r\nL 28.515625 8.296875 \r\nL 28.515625 63.921875 \r\nL 10.984375 60.40625 \r\nL 10.984375 69.390625 \r\nL 28.421875 72.90625 \r\nL 38.28125 72.90625 \r\nL 38.28125 8.296875 \r\nL 54.390625 8.296875 \r\nL 54.390625 0 \r\nL 12.40625 0 \r\nz\r\n\" id=\"DejaVuSans-49\"/>\r\n        <path d=\"M 4.890625 31.390625 \r\nL 31.203125 31.390625 \r\nL 31.203125 23.390625 \r\nL 4.890625 23.390625 \r\nz\r\n\" id=\"DejaVuSans-45\"/>\r\n        <path d=\"M 37.796875 64.3125 \r\nL 12.890625 25.390625 \r\nL 37.796875 25.390625 \r\nz\r\nM 35.203125 72.90625 \r\nL 47.609375 72.90625 \r\nL 47.609375 25.390625 \r\nL 58.015625 25.390625 \r\nL 58.015625 17.1875 \r\nL 47.609375 17.1875 \r\nL 47.609375 0 \r\nL 37.796875 0 \r\nL 37.796875 17.1875 \r\nL 4.890625 17.1875 \r\nL 4.890625 26.703125 \r\nz\r\n\" id=\"DejaVuSans-52\"/>\r\n        <path id=\"DejaVuSans-32\"/>\r\n       </defs>\r\n       <use xlink:href=\"#DejaVuSans-48\"/>\r\n       <use x=\"63.623047\" xlink:href=\"#DejaVuSans-49\"/>\r\n       <use x=\"127.246094\" xlink:href=\"#DejaVuSans-45\"/>\r\n       <use x=\"163.330078\" xlink:href=\"#DejaVuSans-48\"/>\r\n       <use x=\"226.953125\" xlink:href=\"#DejaVuSans-52\"/>\r\n       <use x=\"290.576172\" xlink:href=\"#DejaVuSans-32\"/>\r\n       <use x=\"322.363281\" xlink:href=\"#DejaVuSans-48\"/>\r\n       <use x=\"385.986328\" xlink:href=\"#DejaVuSans-48\"/>\r\n      </g>\r\n     </g>\r\n    </g>\r\n    <g id=\"xtick_2\">\r\n     <g id=\"line2d_2\">\r\n      <g>\r\n       <use style=\"stroke:#000000;stroke-width:0.8;\" x=\"135.793531\" xlink:href=\"#mfc9deb0973\" y=\"224.64\"/>\r\n      </g>\r\n     </g>\r\n     <g id=\"text_2\">\r\n      <!-- 01-04 12 -->\r\n      <g transform=\"translate(113.313063 239.238437)scale(0.1 -0.1)\">\r\n       <defs>\r\n        <path d=\"M 19.1875 8.296875 \r\nL 53.609375 8.296875 \r\nL 53.609375 0 \r\nL 7.328125 0 \r\nL 7.328125 8.296875 \r\nQ 12.9375 14.109375 22.625 23.890625 \r\nQ 32.328125 33.6875 34.8125 36.53125 \r\nQ 39.546875 41.84375 41.421875 45.53125 \r\nQ 43.3125 49.21875 43.3125 52.78125 \r\nQ 43.3125 58.59375 39.234375 62.25 \r\nQ 35.15625 65.921875 28.609375 65.921875 \r\nQ 23.96875 65.921875 18.8125 64.3125 \r\nQ 13.671875 62.703125 7.8125 59.421875 \r\nL 7.8125 69.390625 \r\nQ 13.765625 71.78125 18.9375 73 \r\nQ 24.125 74.21875 28.421875 74.21875 \r\nQ 39.75 74.21875 46.484375 68.546875 \r\nQ 53.21875 62.890625 53.21875 53.421875 \r\nQ 53.21875 48.921875 51.53125 44.890625 \r\nQ 49.859375 40.875 45.40625 35.40625 \r\nQ 44.1875 33.984375 37.640625 27.21875 \r\nQ 31.109375 20.453125 19.1875 8.296875 \r\nz\r\n\" id=\"DejaVuSans-50\"/>\r\n       </defs>\r\n       <use xlink:href=\"#DejaVuSans-48\"/>\r\n       <use x=\"63.623047\" xlink:href=\"#DejaVuSans-49\"/>\r\n       <use x=\"127.246094\" xlink:href=\"#DejaVuSans-45\"/>\r\n       <use x=\"163.330078\" xlink:href=\"#DejaVuSans-48\"/>\r\n       <use x=\"226.953125\" xlink:href=\"#DejaVuSans-52\"/>\r\n       <use x=\"290.576172\" xlink:href=\"#DejaVuSans-32\"/>\r\n       <use x=\"322.363281\" xlink:href=\"#DejaVuSans-49\"/>\r\n       <use x=\"385.986328\" xlink:href=\"#DejaVuSans-50\"/>\r\n      </g>\r\n     </g>\r\n    </g>\r\n    <g id=\"xtick_3\">\r\n     <g id=\"line2d_3\">\r\n      <g>\r\n       <use style=\"stroke:#000000;stroke-width:0.8;\" x=\"194.325\" xlink:href=\"#mfc9deb0973\" y=\"224.64\"/>\r\n      </g>\r\n     </g>\r\n     <g id=\"text_3\">\r\n      <!-- 01-05 00 -->\r\n      <g transform=\"translate(171.844531 239.238437)scale(0.1 -0.1)\">\r\n       <defs>\r\n        <path d=\"M 10.796875 72.90625 \r\nL 49.515625 72.90625 \r\nL 49.515625 64.59375 \r\nL 19.828125 64.59375 \r\nL 19.828125 46.734375 \r\nQ 21.96875 47.46875 24.109375 47.828125 \r\nQ 26.265625 48.1875 28.421875 48.1875 \r\nQ 40.625 48.1875 47.75 41.5 \r\nQ 54.890625 34.8125 54.890625 23.390625 \r\nQ 54.890625 11.625 47.5625 5.09375 \r\nQ 40.234375 -1.421875 26.90625 -1.421875 \r\nQ 22.3125 -1.421875 17.546875 -0.640625 \r\nQ 12.796875 0.140625 7.71875 1.703125 \r\nL 7.71875 11.625 \r\nQ 12.109375 9.234375 16.796875 8.0625 \r\nQ 21.484375 6.890625 26.703125 6.890625 \r\nQ 35.15625 6.890625 40.078125 11.328125 \r\nQ 45.015625 15.765625 45.015625 23.390625 \r\nQ 45.015625 31 40.078125 35.4375 \r\nQ 35.15625 39.890625 26.703125 39.890625 \r\nQ 22.75 39.890625 18.8125 39.015625 \r\nQ 14.890625 38.140625 10.796875 36.28125 \r\nz\r\n\" id=\"DejaVuSans-53\"/>\r\n       </defs>\r\n       <use xlink:href=\"#DejaVuSans-48\"/>\r\n       <use x=\"63.623047\" xlink:href=\"#DejaVuSans-49\"/>\r\n       <use x=\"127.246094\" xlink:href=\"#DejaVuSans-45\"/>\r\n       <use x=\"163.330078\" xlink:href=\"#DejaVuSans-48\"/>\r\n       <use x=\"226.953125\" xlink:href=\"#DejaVuSans-53\"/>\r\n       <use x=\"290.576172\" xlink:href=\"#DejaVuSans-32\"/>\r\n       <use x=\"322.363281\" xlink:href=\"#DejaVuSans-48\"/>\r\n       <use x=\"385.986328\" xlink:href=\"#DejaVuSans-48\"/>\r\n      </g>\r\n     </g>\r\n    </g>\r\n    <g id=\"xtick_4\">\r\n     <g id=\"line2d_4\">\r\n      <g>\r\n       <use style=\"stroke:#000000;stroke-width:0.8;\" x=\"252.856469\" xlink:href=\"#mfc9deb0973\" y=\"224.64\"/>\r\n      </g>\r\n     </g>\r\n     <g id=\"text_4\">\r\n      <!-- 01-05 12 -->\r\n      <g transform=\"translate(230.376 239.238437)scale(0.1 -0.1)\">\r\n       <use xlink:href=\"#DejaVuSans-48\"/>\r\n       <use x=\"63.623047\" xlink:href=\"#DejaVuSans-49\"/>\r\n       <use x=\"127.246094\" xlink:href=\"#DejaVuSans-45\"/>\r\n       <use x=\"163.330078\" xlink:href=\"#DejaVuSans-48\"/>\r\n       <use x=\"226.953125\" xlink:href=\"#DejaVuSans-53\"/>\r\n       <use x=\"290.576172\" xlink:href=\"#DejaVuSans-32\"/>\r\n       <use x=\"322.363281\" xlink:href=\"#DejaVuSans-49\"/>\r\n       <use x=\"385.986328\" xlink:href=\"#DejaVuSans-50\"/>\r\n      </g>\r\n     </g>\r\n    </g>\r\n    <g id=\"xtick_5\">\r\n     <g id=\"line2d_5\">\r\n      <g>\r\n       <use style=\"stroke:#000000;stroke-width:0.8;\" x=\"311.387937\" xlink:href=\"#mfc9deb0973\" y=\"224.64\"/>\r\n      </g>\r\n     </g>\r\n     <g id=\"text_5\">\r\n      <!-- 01-06 00 -->\r\n      <g transform=\"translate(288.907468 239.238437)scale(0.1 -0.1)\">\r\n       <defs>\r\n        <path d=\"M 33.015625 40.375 \r\nQ 26.375 40.375 22.484375 35.828125 \r\nQ 18.609375 31.296875 18.609375 23.390625 \r\nQ 18.609375 15.53125 22.484375 10.953125 \r\nQ 26.375 6.390625 33.015625 6.390625 \r\nQ 39.65625 6.390625 43.53125 10.953125 \r\nQ 47.40625 15.53125 47.40625 23.390625 \r\nQ 47.40625 31.296875 43.53125 35.828125 \r\nQ 39.65625 40.375 33.015625 40.375 \r\nz\r\nM 52.59375 71.296875 \r\nL 52.59375 62.3125 \r\nQ 48.875 64.0625 45.09375 64.984375 \r\nQ 41.3125 65.921875 37.59375 65.921875 \r\nQ 27.828125 65.921875 22.671875 59.328125 \r\nQ 17.53125 52.734375 16.796875 39.40625 \r\nQ 19.671875 43.65625 24.015625 45.921875 \r\nQ 28.375 48.1875 33.59375 48.1875 \r\nQ 44.578125 48.1875 50.953125 41.515625 \r\nQ 57.328125 34.859375 57.328125 23.390625 \r\nQ 57.328125 12.15625 50.6875 5.359375 \r\nQ 44.046875 -1.421875 33.015625 -1.421875 \r\nQ 20.359375 -1.421875 13.671875 8.265625 \r\nQ 6.984375 17.96875 6.984375 36.375 \r\nQ 6.984375 53.65625 15.1875 63.9375 \r\nQ 23.390625 74.21875 37.203125 74.21875 \r\nQ 40.921875 74.21875 44.703125 73.484375 \r\nQ 48.484375 72.75 52.59375 71.296875 \r\nz\r\n\" id=\"DejaVuSans-54\"/>\r\n       </defs>\r\n       <use xlink:href=\"#DejaVuSans-48\"/>\r\n       <use x=\"63.623047\" xlink:href=\"#DejaVuSans-49\"/>\r\n       <use x=\"127.246094\" xlink:href=\"#DejaVuSans-45\"/>\r\n       <use x=\"163.330078\" xlink:href=\"#DejaVuSans-48\"/>\r\n       <use x=\"226.953125\" xlink:href=\"#DejaVuSans-54\"/>\r\n       <use x=\"290.576172\" xlink:href=\"#DejaVuSans-32\"/>\r\n       <use x=\"322.363281\" xlink:href=\"#DejaVuSans-48\"/>\r\n       <use x=\"385.986328\" xlink:href=\"#DejaVuSans-48\"/>\r\n      </g>\r\n     </g>\r\n    </g>\r\n   </g>\r\n   <g id=\"matplotlib.axis_2\">\r\n    <g id=\"ytick_1\">\r\n     <g id=\"line2d_6\">\r\n      <defs>\r\n       <path d=\"M 0 0 \r\nL -3.5 0 \r\n\" id=\"mf8881d11a6\" style=\"stroke:#000000;stroke-width:0.8;\"/>\r\n      </defs>\r\n      <g>\r\n       <use style=\"stroke:#000000;stroke-width:0.8;\" x=\"26.925\" xlink:href=\"#mf8881d11a6\" y=\"224.64\"/>\r\n      </g>\r\n     </g>\r\n     <g id=\"text_6\">\r\n      <!-- 0 -->\r\n      <g transform=\"translate(13.5625 228.439219)scale(0.1 -0.1)\">\r\n       <use xlink:href=\"#DejaVuSans-48\"/>\r\n      </g>\r\n     </g>\r\n    </g>\r\n    <g id=\"ytick_2\">\r\n     <g id=\"line2d_7\">\r\n      <g>\r\n       <use style=\"stroke:#000000;stroke-width:0.8;\" x=\"26.925\" xlink:href=\"#mf8881d11a6\" y=\"192.780659\"/>\r\n      </g>\r\n     </g>\r\n     <g id=\"text_7\">\r\n      <!-- 2 -->\r\n      <g transform=\"translate(13.5625 196.579878)scale(0.1 -0.1)\">\r\n       <use xlink:href=\"#DejaVuSans-50\"/>\r\n      </g>\r\n     </g>\r\n    </g>\r\n    <g id=\"ytick_3\">\r\n     <g id=\"line2d_8\">\r\n      <g>\r\n       <use style=\"stroke:#000000;stroke-width:0.8;\" x=\"26.925\" xlink:href=\"#mf8881d11a6\" y=\"160.921319\"/>\r\n      </g>\r\n     </g>\r\n     <g id=\"text_8\">\r\n      <!-- 4 -->\r\n      <g transform=\"translate(13.5625 164.720537)scale(0.1 -0.1)\">\r\n       <use xlink:href=\"#DejaVuSans-52\"/>\r\n      </g>\r\n     </g>\r\n    </g>\r\n    <g id=\"ytick_4\">\r\n     <g id=\"line2d_9\">\r\n      <g>\r\n       <use style=\"stroke:#000000;stroke-width:0.8;\" x=\"26.925\" xlink:href=\"#mf8881d11a6\" y=\"129.061978\"/>\r\n      </g>\r\n     </g>\r\n     <g id=\"text_9\">\r\n      <!-- 6 -->\r\n      <g transform=\"translate(13.5625 132.861197)scale(0.1 -0.1)\">\r\n       <use xlink:href=\"#DejaVuSans-54\"/>\r\n      </g>\r\n     </g>\r\n    </g>\r\n    <g id=\"ytick_5\">\r\n     <g id=\"line2d_10\">\r\n      <g>\r\n       <use style=\"stroke:#000000;stroke-width:0.8;\" x=\"26.925\" xlink:href=\"#mf8881d11a6\" y=\"97.202637\"/>\r\n      </g>\r\n     </g>\r\n     <g id=\"text_10\">\r\n      <!-- 8 -->\r\n      <g transform=\"translate(13.5625 101.001856)scale(0.1 -0.1)\">\r\n       <defs>\r\n        <path d=\"M 31.78125 34.625 \r\nQ 24.75 34.625 20.71875 30.859375 \r\nQ 16.703125 27.09375 16.703125 20.515625 \r\nQ 16.703125 13.921875 20.71875 10.15625 \r\nQ 24.75 6.390625 31.78125 6.390625 \r\nQ 38.8125 6.390625 42.859375 10.171875 \r\nQ 46.921875 13.96875 46.921875 20.515625 \r\nQ 46.921875 27.09375 42.890625 30.859375 \r\nQ 38.875 34.625 31.78125 34.625 \r\nz\r\nM 21.921875 38.8125 \r\nQ 15.578125 40.375 12.03125 44.71875 \r\nQ 8.5 49.078125 8.5 55.328125 \r\nQ 8.5 64.0625 14.71875 69.140625 \r\nQ 20.953125 74.21875 31.78125 74.21875 \r\nQ 42.671875 74.21875 48.875 69.140625 \r\nQ 55.078125 64.0625 55.078125 55.328125 \r\nQ 55.078125 49.078125 51.53125 44.71875 \r\nQ 48 40.375 41.703125 38.8125 \r\nQ 48.828125 37.15625 52.796875 32.3125 \r\nQ 56.78125 27.484375 56.78125 20.515625 \r\nQ 56.78125 9.90625 50.3125 4.234375 \r\nQ 43.84375 -1.421875 31.78125 -1.421875 \r\nQ 19.734375 -1.421875 13.25 4.234375 \r\nQ 6.78125 9.90625 6.78125 20.515625 \r\nQ 6.78125 27.484375 10.78125 32.3125 \r\nQ 14.796875 37.15625 21.921875 38.8125 \r\nz\r\nM 18.3125 54.390625 \r\nQ 18.3125 48.734375 21.84375 45.5625 \r\nQ 25.390625 42.390625 31.78125 42.390625 \r\nQ 38.140625 42.390625 41.71875 45.5625 \r\nQ 45.3125 48.734375 45.3125 54.390625 \r\nQ 45.3125 60.0625 41.71875 63.234375 \r\nQ 38.140625 66.40625 31.78125 66.40625 \r\nQ 25.390625 66.40625 21.84375 63.234375 \r\nQ 18.3125 60.0625 18.3125 54.390625 \r\nz\r\n\" id=\"DejaVuSans-56\"/>\r\n       </defs>\r\n       <use xlink:href=\"#DejaVuSans-56\"/>\r\n      </g>\r\n     </g>\r\n    </g>\r\n    <g id=\"ytick_6\">\r\n     <g id=\"line2d_11\">\r\n      <g>\r\n       <use style=\"stroke:#000000;stroke-width:0.8;\" x=\"26.925\" xlink:href=\"#mf8881d11a6\" y=\"65.343297\"/>\r\n      </g>\r\n     </g>\r\n     <g id=\"text_11\">\r\n      <!-- 10 -->\r\n      <g transform=\"translate(7.2 69.142515)scale(0.1 -0.1)\">\r\n       <use xlink:href=\"#DejaVuSans-49\"/>\r\n       <use x=\"63.623047\" xlink:href=\"#DejaVuSans-48\"/>\r\n      </g>\r\n     </g>\r\n    </g>\r\n    <g id=\"ytick_7\">\r\n     <g id=\"line2d_12\">\r\n      <g>\r\n       <use style=\"stroke:#000000;stroke-width:0.8;\" x=\"26.925\" xlink:href=\"#mf8881d11a6\" y=\"33.483956\"/>\r\n      </g>\r\n     </g>\r\n     <g id=\"text_12\">\r\n      <!-- 12 -->\r\n      <g transform=\"translate(7.2 37.283175)scale(0.1 -0.1)\">\r\n       <use xlink:href=\"#DejaVuSans-49\"/>\r\n       <use x=\"63.623047\" xlink:href=\"#DejaVuSans-50\"/>\r\n      </g>\r\n     </g>\r\n    </g>\r\n   </g>\r\n   <g id=\"patch_12\">\r\n    <path d=\"M 26.925 224.64 \r\nL 26.925 7.2 \r\n\" style=\"fill:none;stroke:#000000;stroke-linecap:square;stroke-linejoin:miter;stroke-width:0.8;\"/>\r\n   </g>\r\n   <g id=\"patch_13\">\r\n    <path d=\"M 361.725 224.64 \r\nL 361.725 7.2 \r\n\" style=\"fill:none;stroke:#000000;stroke-linecap:square;stroke-linejoin:miter;stroke-width:0.8;\"/>\r\n   </g>\r\n   <g id=\"patch_14\">\r\n    <path d=\"M 26.925 224.64 \r\nL 361.725 224.64 \r\n\" style=\"fill:none;stroke:#000000;stroke-linecap:square;stroke-linejoin:miter;stroke-width:0.8;\"/>\r\n   </g>\r\n   <g id=\"patch_15\">\r\n    <path d=\"M 26.925 7.2 \r\nL 361.725 7.2 \r\n\" style=\"fill:none;stroke:#000000;stroke-linecap:square;stroke-linejoin:miter;stroke-width:0.8;\"/>\r\n   </g>\r\n  </g>\r\n </g>\r\n <defs>\r\n  <clipPath id=\"p16aefc4f3c\">\r\n   <rect height=\"217.44\" width=\"334.8\" x=\"26.925\" y=\"7.2\"/>\r\n  </clipPath>\r\n </defs>\r\n</svg>\r\n",
      "image/png": "[encoded data removed]"
     },
     "metadata": {
      "needs_background": "light"
     }
    }
   ],
   "source": [
    "import matplotlib.pyplot as plt\n",
    "from matplotlib.dates import date2num\n",
    "import datetime\n",
    "\n",
    "x = [\n",
    "    datetime.datetime(2011, 1, 4, 0, 0),\n",
    "    datetime.datetime(2011, 1, 5, 0, 0),\n",
    "    datetime.datetime(2011, 1, 6, 0, 0)\n",
    "]\n",
    "x = date2num(x)\n",
    "\n",
    "y = [4, 9, 2]\n",
    "z = [1, 2, 3]\n",
    "k = [11, 12, 13]\n",
    "\n",
    "ax = plt.subplot(111)\n",
    "ax.bar(x-0.2, y, width=0.2, color='b', align='center')\n",
    "ax.bar(x, z, width=0.2, color='g', align='center')\n",
    "ax.bar(x+0.2, k, width=0.2, color='r', align='center')\n",
    "ax.xaxis_date()\n",
    "\n",
    "plt.show()"
   ]
  },
  {
   "cell_type": "code",
   "execution_count": 2,
   "metadata": {},
   "outputs": [
    {
     "output_type": "execute_result",
     "data": {
      "text/plain": "array([14978., 14979., 14980.])"
     },
     "metadata": {},
     "execution_count": 2
    }
   ],
   "source": [
    "x"
   ]
  },
  {
   "cell_type": "code",
   "execution_count": null,
   "metadata": {},
   "outputs": [],
   "source": []
  }
 ]
}